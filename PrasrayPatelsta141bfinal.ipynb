{
 "cells": [
  {
   "cell_type": "markdown",
   "metadata": {},
   "source": [
    "Indian Premier League Data Analysis"
   ]
  },
  {
   "cell_type": "markdown",
   "metadata": {},
   "source": [
    "Statistics 141B Final Project\n"
   ]
  },
  {
   "cell_type": "markdown",
   "metadata": {},
   "source": [
    "In this project, I use the data set of The Indian Premier League (IPL) for all the Seasons (2008-2017)  \n",
    "IPL follows the Twenty20 match format which is a form of limited overs cricket in that it involves two teams, each with a single innings, the key feature being that each team bats for a maximum of 20 overs. In such a format, the maximum overs a bowler can bowl is one-fifth of the total overs which comes to 4 overs per bowler for a full Twenty20 game. Each team has 10 wickets and 20 overs to play with. The team that scores the highest number of runs wins the game.   \n",
    "The match gets completed when either:     \n",
    "a) The chasing team surpasses the score of the team batting first.   \n",
    "b) When the team batting second runs out of all the 10 wickets and fails to surpass the score of the team batting first.  \n",
    "c) When the team batting second runs out of the 20 overs and fails to surpass the score of the team batting first\n",
    "\n"
   ]
  },
  {
   "cell_type": "markdown",
   "metadata": {},
   "source": [
    "Definition of Column headings \n",
    "\n",
    "Data Set: Matches  \n",
    "\n",
    "Toss Decision: A team can select to either bat or bowl first.  \n",
    "DL Applied:  \n",
    "Win By Runs: A win by runs occur when the team batting first wins the game. The difference between the team batting first and the team batting second is the win by runs for the team batting first.  \n",
    "Win By Wickets: A win by wickets occur when the team batting second wins the game. The difference between the total wickets (10) and the number of wickets lost by the team batting second is the wins by wickets.   \n",
    "Player Of Match: Man of the match awarded to the best player of the game.  \n",
    "\n",
    "\n",
    "\n",
    "Data Set: Deliveries\n",
    "\n",
    "Batting Team: The team that is batting.  \n",
    "Bowling Team: The team that is bowling.  \n",
    "Over: In cricket, an over is a set of six balls bowled from one end of a cricket pitch. In a normal over, a single bowler delivers six balls in succession, from one end of the pitch, to the batsman at the other end.   \n",
    "Ball: Which ball of the given over. From 1-6.  \n",
    "Batsman: The player batting.  \n",
    "Non Striker: The batsman standing at the bowling end   \n",
    "Bowler: The player bowling the ball for the over.  \n",
    "Super Over: Whether the match goes to Super Over  \n",
    "Wide Runs: A delivery that passes illegally wide of the wicket, scoring an extra for the batting side. A wide does not count as one of the six valid deliveries that must be made in each over – an extra ball must be bowled for each wide.  \n",
    "Bye Runs: Extras scored in the same way as normal runs when the ball does not make contact with any part of the batsman (bat, protective gear, body)\n",
    "Leg Bye Runs: Extras taken after a delivery hits any part of the body of the batsman other than the bat or the gloved hand that holds the bat. If the batsman makes no attempt to play the ball with the bat or evade the ball that hits him, leg byes may not be scored.  \n",
    "No Ball Runs: an illegal delivery; the batting side is awarded one extra, the bowler must deliver another ball in the over, and the batsman cannot be dismissed by the bowler on a no-ball. Most usually a front-foot no-ball, in which the bowler oversteps the popping crease; other reasons include bowling a full toss above waist height (see beamer), throwing, having more than two fielders (excluding the wicketkeeper) behind square on the leg side, or breaking the return crease in the delivery stride.  \n",
    "Penalty Runs: 5 penalty runs may be awarded for rarer breaches of the laws.  \n",
    "Batsman Runs: Runs scored by the batsman in that ball  \n",
    "Extra Runs: A run not attributed to any batsman; there are five types: byes, leg byes, penalties, wides and no-balls.  \n",
    "Total Runs: Total runs combining the batsman runs and extras  \n",
    "Player Dismissed: The batsman who got out.  \n",
    "Dismissal Kind: The way in which the batsman gets dismissed(out). (Caught, Bowled, Run-Out, Hit-Wicket, LBW, Stumped, Caught & Bowled, Obstructing The Field, Retired Hurt)  \n",
    "Fielder: The fielder who caught the ball that got the batsman dismissed.  \n",
    "\n",
    "In this project, we have 2 Data Sets to begin with. The Matches Data Set provides us with the information of winner for each game throughout all the seasons. The Deliveries Data Set provides us with the information of ball-by-ball outcome for each game for all the seasons.  \n",
    "Throughout the project,  \n",
    "-I will apply some cleaning and additions to the data set.  \n",
    "-Manipulate the Data sets to record the statistics of each batsman and bowler for every game across all the seasons.  \n",
    "-Answer questions like who are the top 5 batsmen throughout the IPL? (based on highest runs across all seasons). Who are the Hard Hitter Batsmen? (Percentage of total runs scored through boundaries for each batsman- 4s & 6s and their Strike Rates). In what ways the batsmen get out the most? Which bowler has taken the most number of wickets across all the seasons? Which bowler concedes the most extra?  \n",
    "-Who has been the best player in the IPL?  \n",
    "-Find out how the toss impacts the game by answering questions like, What is the win and loss % for the teams that win the toss? Performance of teams that win the toss for each season. What do teams that win the toss prefer to do each season? (Bat or Bowl). Which team is the most lucky? (Moss toss wins)  \n",
    "-How hard is it to chase 200+ targets?  \n",
    "-Predict the Batting and Bowling Averages of few random players for the 2018 IPL Season. Assuming all the players are playing. Where Batting Average = Total Runs/(no.of Innings - no.of NotOuts) and Bowling Average= (Total runs conceded) /(Total Wickets taken)\n"
   ]
  },
  {
   "cell_type": "code",
   "execution_count": 2,
   "metadata": {},
   "outputs": [
    {
     "data": {
      "text/html": [
       "<div>\n",
       "<style>\n",
       "    .dataframe thead tr:only-child th {\n",
       "        text-align: right;\n",
       "    }\n",
       "\n",
       "    .dataframe thead th {\n",
       "        text-align: left;\n",
       "    }\n",
       "\n",
       "    .dataframe tbody tr th {\n",
       "        vertical-align: top;\n",
       "    }\n",
       "</style>\n",
       "<table border=\"1\" class=\"dataframe\">\n",
       "  <thead>\n",
       "    <tr style=\"text-align: right;\">\n",
       "      <th></th>\n",
       "      <th>id</th>\n",
       "      <th>season</th>\n",
       "      <th>city</th>\n",
       "      <th>date</th>\n",
       "      <th>team1</th>\n",
       "      <th>team2</th>\n",
       "      <th>toss_winner</th>\n",
       "      <th>toss_decision</th>\n",
       "      <th>result</th>\n",
       "      <th>dl_applied</th>\n",
       "      <th>winner</th>\n",
       "      <th>win_by_runs</th>\n",
       "      <th>win_by_wickets</th>\n",
       "      <th>player_of_match</th>\n",
       "      <th>venue</th>\n",
       "      <th>umpire1</th>\n",
       "      <th>umpire2</th>\n",
       "      <th>umpire3</th>\n",
       "    </tr>\n",
       "  </thead>\n",
       "  <tbody>\n",
       "    <tr>\n",
       "      <th>0</th>\n",
       "      <td>1</td>\n",
       "      <td>2017</td>\n",
       "      <td>Hyderabad</td>\n",
       "      <td>2017-04-05</td>\n",
       "      <td>Sunrisers Hyderabad</td>\n",
       "      <td>Royal Challengers Bangalore</td>\n",
       "      <td>Royal Challengers Bangalore</td>\n",
       "      <td>field</td>\n",
       "      <td>normal</td>\n",
       "      <td>0</td>\n",
       "      <td>Sunrisers Hyderabad</td>\n",
       "      <td>35</td>\n",
       "      <td>0</td>\n",
       "      <td>Yuvraj Singh</td>\n",
       "      <td>Rajiv Gandhi International Stadium, Uppal</td>\n",
       "      <td>AY Dandekar</td>\n",
       "      <td>NJ Llong</td>\n",
       "      <td>NaN</td>\n",
       "    </tr>\n",
       "    <tr>\n",
       "      <th>1</th>\n",
       "      <td>2</td>\n",
       "      <td>2017</td>\n",
       "      <td>Pune</td>\n",
       "      <td>2017-04-06</td>\n",
       "      <td>Mumbai Indians</td>\n",
       "      <td>Rising Pune Supergiant</td>\n",
       "      <td>Rising Pune Supergiant</td>\n",
       "      <td>field</td>\n",
       "      <td>normal</td>\n",
       "      <td>0</td>\n",
       "      <td>Rising Pune Supergiant</td>\n",
       "      <td>0</td>\n",
       "      <td>7</td>\n",
       "      <td>SPD Smith</td>\n",
       "      <td>Maharashtra Cricket Association Stadium</td>\n",
       "      <td>A Nand Kishore</td>\n",
       "      <td>S Ravi</td>\n",
       "      <td>NaN</td>\n",
       "    </tr>\n",
       "    <tr>\n",
       "      <th>2</th>\n",
       "      <td>3</td>\n",
       "      <td>2017</td>\n",
       "      <td>Rajkot</td>\n",
       "      <td>2017-04-07</td>\n",
       "      <td>Gujarat Lions</td>\n",
       "      <td>Kolkata Knight Riders</td>\n",
       "      <td>Kolkata Knight Riders</td>\n",
       "      <td>field</td>\n",
       "      <td>normal</td>\n",
       "      <td>0</td>\n",
       "      <td>Kolkata Knight Riders</td>\n",
       "      <td>0</td>\n",
       "      <td>10</td>\n",
       "      <td>CA Lynn</td>\n",
       "      <td>Saurashtra Cricket Association Stadium</td>\n",
       "      <td>Nitin Menon</td>\n",
       "      <td>CK Nandan</td>\n",
       "      <td>NaN</td>\n",
       "    </tr>\n",
       "    <tr>\n",
       "      <th>3</th>\n",
       "      <td>4</td>\n",
       "      <td>2017</td>\n",
       "      <td>Indore</td>\n",
       "      <td>2017-04-08</td>\n",
       "      <td>Rising Pune Supergiant</td>\n",
       "      <td>Kings XI Punjab</td>\n",
       "      <td>Kings XI Punjab</td>\n",
       "      <td>field</td>\n",
       "      <td>normal</td>\n",
       "      <td>0</td>\n",
       "      <td>Kings XI Punjab</td>\n",
       "      <td>0</td>\n",
       "      <td>6</td>\n",
       "      <td>GJ Maxwell</td>\n",
       "      <td>Holkar Cricket Stadium</td>\n",
       "      <td>AK Chaudhary</td>\n",
       "      <td>C Shamshuddin</td>\n",
       "      <td>NaN</td>\n",
       "    </tr>\n",
       "    <tr>\n",
       "      <th>4</th>\n",
       "      <td>5</td>\n",
       "      <td>2017</td>\n",
       "      <td>Bangalore</td>\n",
       "      <td>2017-04-08</td>\n",
       "      <td>Royal Challengers Bangalore</td>\n",
       "      <td>Delhi Daredevils</td>\n",
       "      <td>Royal Challengers Bangalore</td>\n",
       "      <td>bat</td>\n",
       "      <td>normal</td>\n",
       "      <td>0</td>\n",
       "      <td>Royal Challengers Bangalore</td>\n",
       "      <td>15</td>\n",
       "      <td>0</td>\n",
       "      <td>KM Jadhav</td>\n",
       "      <td>M Chinnaswamy Stadium</td>\n",
       "      <td>NaN</td>\n",
       "      <td>NaN</td>\n",
       "      <td>NaN</td>\n",
       "    </tr>\n",
       "  </tbody>\n",
       "</table>\n",
       "</div>"
      ],
      "text/plain": [
       "   id  season       city        date                        team1  \\\n",
       "0   1    2017  Hyderabad  2017-04-05          Sunrisers Hyderabad   \n",
       "1   2    2017       Pune  2017-04-06               Mumbai Indians   \n",
       "2   3    2017     Rajkot  2017-04-07                Gujarat Lions   \n",
       "3   4    2017     Indore  2017-04-08       Rising Pune Supergiant   \n",
       "4   5    2017  Bangalore  2017-04-08  Royal Challengers Bangalore   \n",
       "\n",
       "                         team2                  toss_winner toss_decision  \\\n",
       "0  Royal Challengers Bangalore  Royal Challengers Bangalore         field   \n",
       "1       Rising Pune Supergiant       Rising Pune Supergiant         field   \n",
       "2        Kolkata Knight Riders        Kolkata Knight Riders         field   \n",
       "3              Kings XI Punjab              Kings XI Punjab         field   \n",
       "4             Delhi Daredevils  Royal Challengers Bangalore           bat   \n",
       "\n",
       "   result  dl_applied                       winner  win_by_runs  \\\n",
       "0  normal           0          Sunrisers Hyderabad           35   \n",
       "1  normal           0       Rising Pune Supergiant            0   \n",
       "2  normal           0        Kolkata Knight Riders            0   \n",
       "3  normal           0              Kings XI Punjab            0   \n",
       "4  normal           0  Royal Challengers Bangalore           15   \n",
       "\n",
       "   win_by_wickets player_of_match                                      venue  \\\n",
       "0               0    Yuvraj Singh  Rajiv Gandhi International Stadium, Uppal   \n",
       "1               7       SPD Smith    Maharashtra Cricket Association Stadium   \n",
       "2              10         CA Lynn     Saurashtra Cricket Association Stadium   \n",
       "3               6      GJ Maxwell                     Holkar Cricket Stadium   \n",
       "4               0       KM Jadhav                      M Chinnaswamy Stadium   \n",
       "\n",
       "          umpire1        umpire2  umpire3  \n",
       "0     AY Dandekar       NJ Llong      NaN  \n",
       "1  A Nand Kishore         S Ravi      NaN  \n",
       "2     Nitin Menon      CK Nandan      NaN  \n",
       "3    AK Chaudhary  C Shamshuddin      NaN  \n",
       "4             NaN            NaN      NaN  "
      ]
     },
     "execution_count": 2,
     "metadata": {},
     "output_type": "execute_result"
    }
   ],
   "source": [
    "import numpy as np \n",
    "import pandas as pd \n",
    "import matplotlib.pyplot as plt\n",
    "import seaborn as sns\n",
    "import warnings\n",
    "warnings.simplefilter(action = \"ignore\", category = FutureWarning)\n",
    "\n",
    "matches = pd.read_csv('matches.csv')\n",
    "matches.head()"
   ]
  },
  {
   "cell_type": "code",
   "execution_count": 3,
   "metadata": {},
   "outputs": [
    {
     "data": {
      "text/html": [
       "<div>\n",
       "<style>\n",
       "    .dataframe thead tr:only-child th {\n",
       "        text-align: right;\n",
       "    }\n",
       "\n",
       "    .dataframe thead th {\n",
       "        text-align: left;\n",
       "    }\n",
       "\n",
       "    .dataframe tbody tr th {\n",
       "        vertical-align: top;\n",
       "    }\n",
       "</style>\n",
       "<table border=\"1\" class=\"dataframe\">\n",
       "  <thead>\n",
       "    <tr style=\"text-align: right;\">\n",
       "      <th></th>\n",
       "      <th>match_id</th>\n",
       "      <th>inning</th>\n",
       "      <th>batting_team</th>\n",
       "      <th>bowling_team</th>\n",
       "      <th>over</th>\n",
       "      <th>ball</th>\n",
       "      <th>batsman</th>\n",
       "      <th>non_striker</th>\n",
       "      <th>bowler</th>\n",
       "      <th>is_super_over</th>\n",
       "      <th>...</th>\n",
       "      <th>bye_runs</th>\n",
       "      <th>legbye_runs</th>\n",
       "      <th>noball_runs</th>\n",
       "      <th>penalty_runs</th>\n",
       "      <th>batsman_runs</th>\n",
       "      <th>extra_runs</th>\n",
       "      <th>total_runs</th>\n",
       "      <th>player_dismissed</th>\n",
       "      <th>dismissal_kind</th>\n",
       "      <th>fielder</th>\n",
       "    </tr>\n",
       "  </thead>\n",
       "  <tbody>\n",
       "    <tr>\n",
       "      <th>0</th>\n",
       "      <td>1</td>\n",
       "      <td>1</td>\n",
       "      <td>Sunrisers Hyderabad</td>\n",
       "      <td>Royal Challengers Bangalore</td>\n",
       "      <td>1</td>\n",
       "      <td>1</td>\n",
       "      <td>DA Warner</td>\n",
       "      <td>S Dhawan</td>\n",
       "      <td>TS Mills</td>\n",
       "      <td>0</td>\n",
       "      <td>...</td>\n",
       "      <td>0</td>\n",
       "      <td>0</td>\n",
       "      <td>0</td>\n",
       "      <td>0</td>\n",
       "      <td>0</td>\n",
       "      <td>0</td>\n",
       "      <td>0</td>\n",
       "      <td>NaN</td>\n",
       "      <td>NaN</td>\n",
       "      <td>NaN</td>\n",
       "    </tr>\n",
       "    <tr>\n",
       "      <th>1</th>\n",
       "      <td>1</td>\n",
       "      <td>1</td>\n",
       "      <td>Sunrisers Hyderabad</td>\n",
       "      <td>Royal Challengers Bangalore</td>\n",
       "      <td>1</td>\n",
       "      <td>2</td>\n",
       "      <td>DA Warner</td>\n",
       "      <td>S Dhawan</td>\n",
       "      <td>TS Mills</td>\n",
       "      <td>0</td>\n",
       "      <td>...</td>\n",
       "      <td>0</td>\n",
       "      <td>0</td>\n",
       "      <td>0</td>\n",
       "      <td>0</td>\n",
       "      <td>0</td>\n",
       "      <td>0</td>\n",
       "      <td>0</td>\n",
       "      <td>NaN</td>\n",
       "      <td>NaN</td>\n",
       "      <td>NaN</td>\n",
       "    </tr>\n",
       "    <tr>\n",
       "      <th>2</th>\n",
       "      <td>1</td>\n",
       "      <td>1</td>\n",
       "      <td>Sunrisers Hyderabad</td>\n",
       "      <td>Royal Challengers Bangalore</td>\n",
       "      <td>1</td>\n",
       "      <td>3</td>\n",
       "      <td>DA Warner</td>\n",
       "      <td>S Dhawan</td>\n",
       "      <td>TS Mills</td>\n",
       "      <td>0</td>\n",
       "      <td>...</td>\n",
       "      <td>0</td>\n",
       "      <td>0</td>\n",
       "      <td>0</td>\n",
       "      <td>0</td>\n",
       "      <td>4</td>\n",
       "      <td>0</td>\n",
       "      <td>4</td>\n",
       "      <td>NaN</td>\n",
       "      <td>NaN</td>\n",
       "      <td>NaN</td>\n",
       "    </tr>\n",
       "    <tr>\n",
       "      <th>3</th>\n",
       "      <td>1</td>\n",
       "      <td>1</td>\n",
       "      <td>Sunrisers Hyderabad</td>\n",
       "      <td>Royal Challengers Bangalore</td>\n",
       "      <td>1</td>\n",
       "      <td>4</td>\n",
       "      <td>DA Warner</td>\n",
       "      <td>S Dhawan</td>\n",
       "      <td>TS Mills</td>\n",
       "      <td>0</td>\n",
       "      <td>...</td>\n",
       "      <td>0</td>\n",
       "      <td>0</td>\n",
       "      <td>0</td>\n",
       "      <td>0</td>\n",
       "      <td>0</td>\n",
       "      <td>0</td>\n",
       "      <td>0</td>\n",
       "      <td>NaN</td>\n",
       "      <td>NaN</td>\n",
       "      <td>NaN</td>\n",
       "    </tr>\n",
       "    <tr>\n",
       "      <th>4</th>\n",
       "      <td>1</td>\n",
       "      <td>1</td>\n",
       "      <td>Sunrisers Hyderabad</td>\n",
       "      <td>Royal Challengers Bangalore</td>\n",
       "      <td>1</td>\n",
       "      <td>5</td>\n",
       "      <td>DA Warner</td>\n",
       "      <td>S Dhawan</td>\n",
       "      <td>TS Mills</td>\n",
       "      <td>0</td>\n",
       "      <td>...</td>\n",
       "      <td>0</td>\n",
       "      <td>0</td>\n",
       "      <td>0</td>\n",
       "      <td>0</td>\n",
       "      <td>0</td>\n",
       "      <td>2</td>\n",
       "      <td>2</td>\n",
       "      <td>NaN</td>\n",
       "      <td>NaN</td>\n",
       "      <td>NaN</td>\n",
       "    </tr>\n",
       "  </tbody>\n",
       "</table>\n",
       "<p>5 rows × 21 columns</p>\n",
       "</div>"
      ],
      "text/plain": [
       "   match_id  inning         batting_team                 bowling_team  over  \\\n",
       "0         1       1  Sunrisers Hyderabad  Royal Challengers Bangalore     1   \n",
       "1         1       1  Sunrisers Hyderabad  Royal Challengers Bangalore     1   \n",
       "2         1       1  Sunrisers Hyderabad  Royal Challengers Bangalore     1   \n",
       "3         1       1  Sunrisers Hyderabad  Royal Challengers Bangalore     1   \n",
       "4         1       1  Sunrisers Hyderabad  Royal Challengers Bangalore     1   \n",
       "\n",
       "   ball    batsman non_striker    bowler  is_super_over   ...    bye_runs  \\\n",
       "0     1  DA Warner    S Dhawan  TS Mills              0   ...           0   \n",
       "1     2  DA Warner    S Dhawan  TS Mills              0   ...           0   \n",
       "2     3  DA Warner    S Dhawan  TS Mills              0   ...           0   \n",
       "3     4  DA Warner    S Dhawan  TS Mills              0   ...           0   \n",
       "4     5  DA Warner    S Dhawan  TS Mills              0   ...           0   \n",
       "\n",
       "   legbye_runs  noball_runs  penalty_runs  batsman_runs  extra_runs  \\\n",
       "0            0            0             0             0           0   \n",
       "1            0            0             0             0           0   \n",
       "2            0            0             0             4           0   \n",
       "3            0            0             0             0           0   \n",
       "4            0            0             0             0           2   \n",
       "\n",
       "   total_runs  player_dismissed dismissal_kind fielder  \n",
       "0           0               NaN            NaN     NaN  \n",
       "1           0               NaN            NaN     NaN  \n",
       "2           4               NaN            NaN     NaN  \n",
       "3           0               NaN            NaN     NaN  \n",
       "4           2               NaN            NaN     NaN  \n",
       "\n",
       "[5 rows x 21 columns]"
      ]
     },
     "execution_count": 3,
     "metadata": {},
     "output_type": "execute_result"
    }
   ],
   "source": [
    "deliveries = pd.read_csv('deliveries.csv')\n",
    "deliveries.head()"
   ]
  },
  {
   "cell_type": "markdown",
   "metadata": {},
   "source": [
    "Some Cleaning and Additions"
   ]
  },
  {
   "cell_type": "markdown",
   "metadata": {},
   "source": [
    "In a Season of an IPL tournament, each team plays twice with every other team, home and away game. In the playoffs, the top 4 teams advance through the qualifiers. The teams that end up in the 1st and 2nd spot get to play the Qualifier 1. The teams that end up in 3rd and 4th spot get to play the Eliminator. The Loser of the Qualifier 1 and the winner of the Eliminator get to play the Qualifier 2. Winner of this game advances to the final to compete with the winner of the Qualifier 1.  \n",
    "To make things readable, I abbreviated all the team names.  \n",
    "I have dropped the umpire 3 column since all of them have NaN values. \n"
   ]
  },
  {
   "cell_type": "code",
   "execution_count": 4,
   "metadata": {},
   "outputs": [],
   "source": [
    "matches[\"type\"] = \"pre-qualifier\"\n",
    "for year in range(2008, 2017):\n",
    "   qualifiers_final = matches[matches['season']==year][-1:].index.values[0]\n",
    "   matches = matches.set_value(qualifiers_final, \"type\", \"Final\")\n",
    "   matches = matches.set_value(qualifiers_final-1, \"type\", \"Qualifier 2\")\n",
    "   matches = matches.set_value(qualifiers_final-2, \"type\", \"Eliminator\")\n",
    "   matches = matches.set_value(qualifiers_final-3, \"type\", \"Qualifier 1\")\n",
    "\n",
    "matches.groupby([\"type\"])[\"id\"].count()\n",
    "\n",
    "#Replacing the Team Names with their abbreviations\n",
    "\n",
    "matches.replace(['Mumbai Indians','Kolkata Knight Riders','Royal Challengers Bangalore','Deccan Chargers','Chennai Super Kings',\n",
    "                 'Rajasthan Royals','Delhi Daredevils','Gujarat Lions','Kings XI Punjab',\n",
    "                 'Sunrisers Hyderabad','Rising Pune Supergiants','Kochi Tuskers Kerala','Pune Warriors','Rising Pune Supergiant']\n",
    "                ,['MI','KKR','RCB','DC','CSK','RR','DD','GL','KXIP','SRH','RPS','KTK','PW','RPS'],inplace=True)\n",
    "\n",
    "deliveries.replace(['Mumbai Indians','Kolkata Knight Riders','Royal Challengers Bangalore','Deccan Chargers','Chennai Super Kings',\n",
    "                 'Rajasthan Royals','Delhi Daredevils','Gujarat Lions','Kings XI Punjab',\n",
    "                 'Sunrisers Hyderabad','Rising Pune Supergiants','Kochi Tuskers Kerala','Pune Warriors','Rising Pune Supergiant']\n",
    "                ,['MI','KKR','RCB','DC','CSK','RR','DD','GL','KXIP','SRH','RPS','KTK','PW','RPS'],inplace=True)\n",
    "\n",
    "matches.drop(['umpire3'],axis=1,inplace=True)  #since all the values are NaN\n",
    "deliveries.fillna(0,inplace=True)     #filling all the NaN values with 0\n",
    "matches.columns = [\"ID\", \"Season\", \"City\", \"Date\", \"Home Team\", \"Away Team\", \"Toss Winner\", \"Toss Decision\", \"Result\", \"DL Method\", \"Winner\", \"Win by Runs\", \"Win by Wickets\", \"MOM\", \"Venue\", \"Umpire 1\", \"Umpire 2\",\"Match Type\"]\n",
    "deliveries.columns = [\"Match ID\", \"Innings\", \"Batting Team\", \"Bowling Team\", \"Over(s)\", \"Ball(s)\", \"Batsman\", \"Non Striker\", \"Bowler\", \"Super Over\", \"Wide Runs\",\"Bye Runs\",\"Leg Bye Runs\",\"No Ball Runs\",\"Penalty Runs\",\"Batsman Runs\",\"Extra Runs\",\"Total Runs\",\"Player Dismissed\", \"Dismissal Kind\", \"Fielder\"]"
   ]
  },
  {
   "cell_type": "code",
   "execution_count": 5,
   "metadata": {},
   "outputs": [
    {
     "data": {
      "text/html": [
       "<div>\n",
       "<style>\n",
       "    .dataframe thead tr:only-child th {\n",
       "        text-align: right;\n",
       "    }\n",
       "\n",
       "    .dataframe thead th {\n",
       "        text-align: left;\n",
       "    }\n",
       "\n",
       "    .dataframe tbody tr th {\n",
       "        vertical-align: top;\n",
       "    }\n",
       "</style>\n",
       "<table border=\"1\" class=\"dataframe\">\n",
       "  <thead>\n",
       "    <tr style=\"text-align: right;\">\n",
       "      <th></th>\n",
       "      <th>ID</th>\n",
       "      <th>Season</th>\n",
       "      <th>City</th>\n",
       "      <th>Date</th>\n",
       "      <th>Home Team</th>\n",
       "      <th>Away Team</th>\n",
       "      <th>Toss Winner</th>\n",
       "      <th>Toss Decision</th>\n",
       "      <th>Result</th>\n",
       "      <th>DL Method</th>\n",
       "      <th>Winner</th>\n",
       "      <th>Win by Runs</th>\n",
       "      <th>Win by Wickets</th>\n",
       "      <th>MOM</th>\n",
       "      <th>Venue</th>\n",
       "      <th>Umpire 1</th>\n",
       "      <th>Umpire 2</th>\n",
       "      <th>Match Type</th>\n",
       "    </tr>\n",
       "  </thead>\n",
       "  <tbody>\n",
       "    <tr>\n",
       "      <th>0</th>\n",
       "      <td>1</td>\n",
       "      <td>2017</td>\n",
       "      <td>Hyderabad</td>\n",
       "      <td>2017-04-05</td>\n",
       "      <td>SRH</td>\n",
       "      <td>RCB</td>\n",
       "      <td>RCB</td>\n",
       "      <td>field</td>\n",
       "      <td>normal</td>\n",
       "      <td>0</td>\n",
       "      <td>SRH</td>\n",
       "      <td>35</td>\n",
       "      <td>0</td>\n",
       "      <td>Yuvraj Singh</td>\n",
       "      <td>Rajiv Gandhi International Stadium, Uppal</td>\n",
       "      <td>AY Dandekar</td>\n",
       "      <td>NJ Llong</td>\n",
       "      <td>pre-qualifier</td>\n",
       "    </tr>\n",
       "    <tr>\n",
       "      <th>1</th>\n",
       "      <td>2</td>\n",
       "      <td>2017</td>\n",
       "      <td>Pune</td>\n",
       "      <td>2017-04-06</td>\n",
       "      <td>MI</td>\n",
       "      <td>RPS</td>\n",
       "      <td>RPS</td>\n",
       "      <td>field</td>\n",
       "      <td>normal</td>\n",
       "      <td>0</td>\n",
       "      <td>RPS</td>\n",
       "      <td>0</td>\n",
       "      <td>7</td>\n",
       "      <td>SPD Smith</td>\n",
       "      <td>Maharashtra Cricket Association Stadium</td>\n",
       "      <td>A Nand Kishore</td>\n",
       "      <td>S Ravi</td>\n",
       "      <td>pre-qualifier</td>\n",
       "    </tr>\n",
       "    <tr>\n",
       "      <th>2</th>\n",
       "      <td>3</td>\n",
       "      <td>2017</td>\n",
       "      <td>Rajkot</td>\n",
       "      <td>2017-04-07</td>\n",
       "      <td>GL</td>\n",
       "      <td>KKR</td>\n",
       "      <td>KKR</td>\n",
       "      <td>field</td>\n",
       "      <td>normal</td>\n",
       "      <td>0</td>\n",
       "      <td>KKR</td>\n",
       "      <td>0</td>\n",
       "      <td>10</td>\n",
       "      <td>CA Lynn</td>\n",
       "      <td>Saurashtra Cricket Association Stadium</td>\n",
       "      <td>Nitin Menon</td>\n",
       "      <td>CK Nandan</td>\n",
       "      <td>pre-qualifier</td>\n",
       "    </tr>\n",
       "    <tr>\n",
       "      <th>3</th>\n",
       "      <td>4</td>\n",
       "      <td>2017</td>\n",
       "      <td>Indore</td>\n",
       "      <td>2017-04-08</td>\n",
       "      <td>RPS</td>\n",
       "      <td>KXIP</td>\n",
       "      <td>KXIP</td>\n",
       "      <td>field</td>\n",
       "      <td>normal</td>\n",
       "      <td>0</td>\n",
       "      <td>KXIP</td>\n",
       "      <td>0</td>\n",
       "      <td>6</td>\n",
       "      <td>GJ Maxwell</td>\n",
       "      <td>Holkar Cricket Stadium</td>\n",
       "      <td>AK Chaudhary</td>\n",
       "      <td>C Shamshuddin</td>\n",
       "      <td>pre-qualifier</td>\n",
       "    </tr>\n",
       "    <tr>\n",
       "      <th>4</th>\n",
       "      <td>5</td>\n",
       "      <td>2017</td>\n",
       "      <td>Bangalore</td>\n",
       "      <td>2017-04-08</td>\n",
       "      <td>RCB</td>\n",
       "      <td>DD</td>\n",
       "      <td>RCB</td>\n",
       "      <td>bat</td>\n",
       "      <td>normal</td>\n",
       "      <td>0</td>\n",
       "      <td>RCB</td>\n",
       "      <td>15</td>\n",
       "      <td>0</td>\n",
       "      <td>KM Jadhav</td>\n",
       "      <td>M Chinnaswamy Stadium</td>\n",
       "      <td>NaN</td>\n",
       "      <td>NaN</td>\n",
       "      <td>pre-qualifier</td>\n",
       "    </tr>\n",
       "  </tbody>\n",
       "</table>\n",
       "</div>"
      ],
      "text/plain": [
       "   ID  Season       City        Date Home Team Away Team Toss Winner  \\\n",
       "0   1    2017  Hyderabad  2017-04-05       SRH       RCB         RCB   \n",
       "1   2    2017       Pune  2017-04-06        MI       RPS         RPS   \n",
       "2   3    2017     Rajkot  2017-04-07        GL       KKR         KKR   \n",
       "3   4    2017     Indore  2017-04-08       RPS      KXIP        KXIP   \n",
       "4   5    2017  Bangalore  2017-04-08       RCB        DD         RCB   \n",
       "\n",
       "  Toss Decision  Result  DL Method Winner  Win by Runs  Win by Wickets  \\\n",
       "0         field  normal          0    SRH           35               0   \n",
       "1         field  normal          0    RPS            0               7   \n",
       "2         field  normal          0    KKR            0              10   \n",
       "3         field  normal          0   KXIP            0               6   \n",
       "4           bat  normal          0    RCB           15               0   \n",
       "\n",
       "            MOM                                      Venue        Umpire 1  \\\n",
       "0  Yuvraj Singh  Rajiv Gandhi International Stadium, Uppal     AY Dandekar   \n",
       "1     SPD Smith    Maharashtra Cricket Association Stadium  A Nand Kishore   \n",
       "2       CA Lynn     Saurashtra Cricket Association Stadium     Nitin Menon   \n",
       "3    GJ Maxwell                     Holkar Cricket Stadium    AK Chaudhary   \n",
       "4     KM Jadhav                      M Chinnaswamy Stadium             NaN   \n",
       "\n",
       "        Umpire 2     Match Type  \n",
       "0       NJ Llong  pre-qualifier  \n",
       "1         S Ravi  pre-qualifier  \n",
       "2      CK Nandan  pre-qualifier  \n",
       "3  C Shamshuddin  pre-qualifier  \n",
       "4            NaN  pre-qualifier  "
      ]
     },
     "execution_count": 5,
     "metadata": {},
     "output_type": "execute_result"
    }
   ],
   "source": [
    "matches.head()"
   ]
  },
  {
   "cell_type": "code",
   "execution_count": 6,
   "metadata": {},
   "outputs": [
    {
     "data": {
      "text/html": [
       "<div>\n",
       "<style>\n",
       "    .dataframe thead tr:only-child th {\n",
       "        text-align: right;\n",
       "    }\n",
       "\n",
       "    .dataframe thead th {\n",
       "        text-align: left;\n",
       "    }\n",
       "\n",
       "    .dataframe tbody tr th {\n",
       "        vertical-align: top;\n",
       "    }\n",
       "</style>\n",
       "<table border=\"1\" class=\"dataframe\">\n",
       "  <thead>\n",
       "    <tr style=\"text-align: right;\">\n",
       "      <th></th>\n",
       "      <th>Match ID</th>\n",
       "      <th>Innings</th>\n",
       "      <th>Batting Team</th>\n",
       "      <th>Bowling Team</th>\n",
       "      <th>Over(s)</th>\n",
       "      <th>Ball(s)</th>\n",
       "      <th>Batsman</th>\n",
       "      <th>Non Striker</th>\n",
       "      <th>Bowler</th>\n",
       "      <th>Super Over</th>\n",
       "      <th>...</th>\n",
       "      <th>Bye Runs</th>\n",
       "      <th>Leg Bye Runs</th>\n",
       "      <th>No Ball Runs</th>\n",
       "      <th>Penalty Runs</th>\n",
       "      <th>Batsman Runs</th>\n",
       "      <th>Extra Runs</th>\n",
       "      <th>Total Runs</th>\n",
       "      <th>Player Dismissed</th>\n",
       "      <th>Dismissal Kind</th>\n",
       "      <th>Fielder</th>\n",
       "    </tr>\n",
       "  </thead>\n",
       "  <tbody>\n",
       "    <tr>\n",
       "      <th>0</th>\n",
       "      <td>1</td>\n",
       "      <td>1</td>\n",
       "      <td>SRH</td>\n",
       "      <td>RCB</td>\n",
       "      <td>1</td>\n",
       "      <td>1</td>\n",
       "      <td>DA Warner</td>\n",
       "      <td>S Dhawan</td>\n",
       "      <td>TS Mills</td>\n",
       "      <td>0</td>\n",
       "      <td>...</td>\n",
       "      <td>0</td>\n",
       "      <td>0</td>\n",
       "      <td>0</td>\n",
       "      <td>0</td>\n",
       "      <td>0</td>\n",
       "      <td>0</td>\n",
       "      <td>0</td>\n",
       "      <td>0</td>\n",
       "      <td>0</td>\n",
       "      <td>0</td>\n",
       "    </tr>\n",
       "    <tr>\n",
       "      <th>1</th>\n",
       "      <td>1</td>\n",
       "      <td>1</td>\n",
       "      <td>SRH</td>\n",
       "      <td>RCB</td>\n",
       "      <td>1</td>\n",
       "      <td>2</td>\n",
       "      <td>DA Warner</td>\n",
       "      <td>S Dhawan</td>\n",
       "      <td>TS Mills</td>\n",
       "      <td>0</td>\n",
       "      <td>...</td>\n",
       "      <td>0</td>\n",
       "      <td>0</td>\n",
       "      <td>0</td>\n",
       "      <td>0</td>\n",
       "      <td>0</td>\n",
       "      <td>0</td>\n",
       "      <td>0</td>\n",
       "      <td>0</td>\n",
       "      <td>0</td>\n",
       "      <td>0</td>\n",
       "    </tr>\n",
       "    <tr>\n",
       "      <th>2</th>\n",
       "      <td>1</td>\n",
       "      <td>1</td>\n",
       "      <td>SRH</td>\n",
       "      <td>RCB</td>\n",
       "      <td>1</td>\n",
       "      <td>3</td>\n",
       "      <td>DA Warner</td>\n",
       "      <td>S Dhawan</td>\n",
       "      <td>TS Mills</td>\n",
       "      <td>0</td>\n",
       "      <td>...</td>\n",
       "      <td>0</td>\n",
       "      <td>0</td>\n",
       "      <td>0</td>\n",
       "      <td>0</td>\n",
       "      <td>4</td>\n",
       "      <td>0</td>\n",
       "      <td>4</td>\n",
       "      <td>0</td>\n",
       "      <td>0</td>\n",
       "      <td>0</td>\n",
       "    </tr>\n",
       "    <tr>\n",
       "      <th>3</th>\n",
       "      <td>1</td>\n",
       "      <td>1</td>\n",
       "      <td>SRH</td>\n",
       "      <td>RCB</td>\n",
       "      <td>1</td>\n",
       "      <td>4</td>\n",
       "      <td>DA Warner</td>\n",
       "      <td>S Dhawan</td>\n",
       "      <td>TS Mills</td>\n",
       "      <td>0</td>\n",
       "      <td>...</td>\n",
       "      <td>0</td>\n",
       "      <td>0</td>\n",
       "      <td>0</td>\n",
       "      <td>0</td>\n",
       "      <td>0</td>\n",
       "      <td>0</td>\n",
       "      <td>0</td>\n",
       "      <td>0</td>\n",
       "      <td>0</td>\n",
       "      <td>0</td>\n",
       "    </tr>\n",
       "    <tr>\n",
       "      <th>4</th>\n",
       "      <td>1</td>\n",
       "      <td>1</td>\n",
       "      <td>SRH</td>\n",
       "      <td>RCB</td>\n",
       "      <td>1</td>\n",
       "      <td>5</td>\n",
       "      <td>DA Warner</td>\n",
       "      <td>S Dhawan</td>\n",
       "      <td>TS Mills</td>\n",
       "      <td>0</td>\n",
       "      <td>...</td>\n",
       "      <td>0</td>\n",
       "      <td>0</td>\n",
       "      <td>0</td>\n",
       "      <td>0</td>\n",
       "      <td>0</td>\n",
       "      <td>2</td>\n",
       "      <td>2</td>\n",
       "      <td>0</td>\n",
       "      <td>0</td>\n",
       "      <td>0</td>\n",
       "    </tr>\n",
       "  </tbody>\n",
       "</table>\n",
       "<p>5 rows × 21 columns</p>\n",
       "</div>"
      ],
      "text/plain": [
       "   Match ID  Innings Batting Team Bowling Team  Over(s)  Ball(s)    Batsman  \\\n",
       "0         1        1          SRH          RCB        1        1  DA Warner   \n",
       "1         1        1          SRH          RCB        1        2  DA Warner   \n",
       "2         1        1          SRH          RCB        1        3  DA Warner   \n",
       "3         1        1          SRH          RCB        1        4  DA Warner   \n",
       "4         1        1          SRH          RCB        1        5  DA Warner   \n",
       "\n",
       "  Non Striker    Bowler  Super Over   ...    Bye Runs  Leg Bye Runs  \\\n",
       "0    S Dhawan  TS Mills           0   ...           0             0   \n",
       "1    S Dhawan  TS Mills           0   ...           0             0   \n",
       "2    S Dhawan  TS Mills           0   ...           0             0   \n",
       "3    S Dhawan  TS Mills           0   ...           0             0   \n",
       "4    S Dhawan  TS Mills           0   ...           0             0   \n",
       "\n",
       "   No Ball Runs  Penalty Runs  Batsman Runs  Extra Runs  Total Runs  \\\n",
       "0             0             0             0           0           0   \n",
       "1             0             0             0           0           0   \n",
       "2             0             0             4           0           4   \n",
       "3             0             0             0           0           0   \n",
       "4             0             0             0           2           2   \n",
       "\n",
       "   Player Dismissed Dismissal Kind Fielder  \n",
       "0                 0              0       0  \n",
       "1                 0              0       0  \n",
       "2                 0              0       0  \n",
       "3                 0              0       0  \n",
       "4                 0              0       0  \n",
       "\n",
       "[5 rows x 21 columns]"
      ]
     },
     "execution_count": 6,
     "metadata": {},
     "output_type": "execute_result"
    }
   ],
   "source": [
    "deliveries.head()"
   ]
  },
  {
   "cell_type": "markdown",
   "metadata": {},
   "source": [
    "Add team score and team extra columns for each match, each inning."
   ]
  },
  {
   "cell_type": "code",
   "execution_count": 7,
   "metadata": {},
   "outputs": [
    {
     "data": {
      "text/html": [
       "<div>\n",
       "<style>\n",
       "    .dataframe thead tr:only-child th {\n",
       "        text-align: right;\n",
       "    }\n",
       "\n",
       "    .dataframe thead th {\n",
       "        text-align: left;\n",
       "    }\n",
       "\n",
       "    .dataframe tbody tr th {\n",
       "        vertical-align: top;\n",
       "    }\n",
       "</style>\n",
       "<table border=\"1\" class=\"dataframe\">\n",
       "  <thead>\n",
       "    <tr style=\"text-align: right;\">\n",
       "      <th></th>\n",
       "      <th>Match ID</th>\n",
       "      <th>Season</th>\n",
       "      <th>City</th>\n",
       "      <th>Date</th>\n",
       "      <th>Home Team</th>\n",
       "      <th>Away Team</th>\n",
       "      <th>Toss Winner</th>\n",
       "      <th>Toss Decision</th>\n",
       "      <th>Result</th>\n",
       "      <th>DL Method</th>\n",
       "      <th>...</th>\n",
       "      <th>Away Team Score</th>\n",
       "      <th>Win by Runs</th>\n",
       "      <th>Win by Wickets</th>\n",
       "      <th>Home Team Extras</th>\n",
       "      <th>Away Team Extras</th>\n",
       "      <th>MOM</th>\n",
       "      <th>Venue</th>\n",
       "      <th>Umpire 1</th>\n",
       "      <th>Umpire 2</th>\n",
       "      <th>Match Type</th>\n",
       "    </tr>\n",
       "  </thead>\n",
       "  <tbody>\n",
       "    <tr>\n",
       "      <th>0</th>\n",
       "      <td>1</td>\n",
       "      <td>2017</td>\n",
       "      <td>Hyderabad</td>\n",
       "      <td>2017-04-05</td>\n",
       "      <td>SRH</td>\n",
       "      <td>RCB</td>\n",
       "      <td>RCB</td>\n",
       "      <td>field</td>\n",
       "      <td>normal</td>\n",
       "      <td>0</td>\n",
       "      <td>...</td>\n",
       "      <td>172.0</td>\n",
       "      <td>35</td>\n",
       "      <td>0</td>\n",
       "      <td>7.0</td>\n",
       "      <td>6.0</td>\n",
       "      <td>Yuvraj Singh</td>\n",
       "      <td>Rajiv Gandhi International Stadium, Uppal</td>\n",
       "      <td>AY Dandekar</td>\n",
       "      <td>NJ Llong</td>\n",
       "      <td>pre-qualifier</td>\n",
       "    </tr>\n",
       "    <tr>\n",
       "      <th>1</th>\n",
       "      <td>2</td>\n",
       "      <td>2017</td>\n",
       "      <td>Pune</td>\n",
       "      <td>2017-04-06</td>\n",
       "      <td>MI</td>\n",
       "      <td>RPS</td>\n",
       "      <td>RPS</td>\n",
       "      <td>field</td>\n",
       "      <td>normal</td>\n",
       "      <td>0</td>\n",
       "      <td>...</td>\n",
       "      <td>187.0</td>\n",
       "      <td>0</td>\n",
       "      <td>7</td>\n",
       "      <td>8.0</td>\n",
       "      <td>4.0</td>\n",
       "      <td>SPD Smith</td>\n",
       "      <td>Maharashtra Cricket Association Stadium</td>\n",
       "      <td>A Nand Kishore</td>\n",
       "      <td>S Ravi</td>\n",
       "      <td>pre-qualifier</td>\n",
       "    </tr>\n",
       "    <tr>\n",
       "      <th>2</th>\n",
       "      <td>3</td>\n",
       "      <td>2017</td>\n",
       "      <td>Rajkot</td>\n",
       "      <td>2017-04-07</td>\n",
       "      <td>GL</td>\n",
       "      <td>KKR</td>\n",
       "      <td>KKR</td>\n",
       "      <td>field</td>\n",
       "      <td>normal</td>\n",
       "      <td>0</td>\n",
       "      <td>...</td>\n",
       "      <td>184.0</td>\n",
       "      <td>0</td>\n",
       "      <td>10</td>\n",
       "      <td>4.0</td>\n",
       "      <td>15.0</td>\n",
       "      <td>CA Lynn</td>\n",
       "      <td>Saurashtra Cricket Association Stadium</td>\n",
       "      <td>Nitin Menon</td>\n",
       "      <td>CK Nandan</td>\n",
       "      <td>pre-qualifier</td>\n",
       "    </tr>\n",
       "    <tr>\n",
       "      <th>3</th>\n",
       "      <td>4</td>\n",
       "      <td>2017</td>\n",
       "      <td>Indore</td>\n",
       "      <td>2017-04-08</td>\n",
       "      <td>RPS</td>\n",
       "      <td>KXIP</td>\n",
       "      <td>KXIP</td>\n",
       "      <td>field</td>\n",
       "      <td>normal</td>\n",
       "      <td>0</td>\n",
       "      <td>...</td>\n",
       "      <td>164.0</td>\n",
       "      <td>0</td>\n",
       "      <td>6</td>\n",
       "      <td>6.0</td>\n",
       "      <td>10.0</td>\n",
       "      <td>GJ Maxwell</td>\n",
       "      <td>Holkar Cricket Stadium</td>\n",
       "      <td>AK Chaudhary</td>\n",
       "      <td>C Shamshuddin</td>\n",
       "      <td>pre-qualifier</td>\n",
       "    </tr>\n",
       "    <tr>\n",
       "      <th>4</th>\n",
       "      <td>5</td>\n",
       "      <td>2017</td>\n",
       "      <td>Bangalore</td>\n",
       "      <td>2017-04-08</td>\n",
       "      <td>RCB</td>\n",
       "      <td>DD</td>\n",
       "      <td>RCB</td>\n",
       "      <td>bat</td>\n",
       "      <td>normal</td>\n",
       "      <td>0</td>\n",
       "      <td>...</td>\n",
       "      <td>142.0</td>\n",
       "      <td>15</td>\n",
       "      <td>0</td>\n",
       "      <td>6.0</td>\n",
       "      <td>5.0</td>\n",
       "      <td>KM Jadhav</td>\n",
       "      <td>M Chinnaswamy Stadium</td>\n",
       "      <td>NaN</td>\n",
       "      <td>NaN</td>\n",
       "      <td>pre-qualifier</td>\n",
       "    </tr>\n",
       "  </tbody>\n",
       "</table>\n",
       "<p>5 rows × 26 columns</p>\n",
       "</div>"
      ],
      "text/plain": [
       "   Match ID  Season       City        Date Home Team Away Team Toss Winner  \\\n",
       "0         1    2017  Hyderabad  2017-04-05       SRH       RCB         RCB   \n",
       "1         2    2017       Pune  2017-04-06        MI       RPS         RPS   \n",
       "2         3    2017     Rajkot  2017-04-07        GL       KKR         KKR   \n",
       "3         4    2017     Indore  2017-04-08       RPS      KXIP        KXIP   \n",
       "4         5    2017  Bangalore  2017-04-08       RCB        DD         RCB   \n",
       "\n",
       "  Toss Decision  Result  DL Method      ...       Away Team Score  \\\n",
       "0         field  normal          0      ...                 172.0   \n",
       "1         field  normal          0      ...                 187.0   \n",
       "2         field  normal          0      ...                 184.0   \n",
       "3         field  normal          0      ...                 164.0   \n",
       "4           bat  normal          0      ...                 142.0   \n",
       "\n",
       "   Win by Runs  Win by Wickets  Home Team Extras  Away Team Extras  \\\n",
       "0           35               0               7.0               6.0   \n",
       "1            0               7               8.0               4.0   \n",
       "2            0              10               4.0              15.0   \n",
       "3            0               6               6.0              10.0   \n",
       "4           15               0               6.0               5.0   \n",
       "\n",
       "            MOM                                      Venue        Umpire 1  \\\n",
       "0  Yuvraj Singh  Rajiv Gandhi International Stadium, Uppal     AY Dandekar   \n",
       "1     SPD Smith    Maharashtra Cricket Association Stadium  A Nand Kishore   \n",
       "2       CA Lynn     Saurashtra Cricket Association Stadium     Nitin Menon   \n",
       "3    GJ Maxwell                     Holkar Cricket Stadium    AK Chaudhary   \n",
       "4     KM Jadhav                      M Chinnaswamy Stadium             NaN   \n",
       "\n",
       "        Umpire 2     Match Type  \n",
       "0       NJ Llong  pre-qualifier  \n",
       "1         S Ravi  pre-qualifier  \n",
       "2      CK Nandan  pre-qualifier  \n",
       "3  C Shamshuddin  pre-qualifier  \n",
       "4            NaN  pre-qualifier  \n",
       "\n",
       "[5 rows x 26 columns]"
      ]
     },
     "execution_count": 7,
     "metadata": {},
     "output_type": "execute_result"
    }
   ],
   "source": [
    "score = deliveries.groupby(['Match ID', 'Innings'])['Total Runs'].sum().unstack().reset_index()\n",
    "score.columns = ['Match ID', 'Home Team Score', 'Away Team Score', 'Home Team Super-Over Score', 'Away Team Super-Over Score']\n",
    "Match_Records = pd.merge(matches, score, left_on = 'ID', right_on = 'Match ID', how = 'outer')\n",
    "\n",
    "extras = deliveries.groupby(['Match ID', 'Innings'])['Extra Runs'].sum().unstack().reset_index()\n",
    "extras.columns = ['Match ID', 'Home Team Extras', 'Away Team Extras', 'Home Team Super-Over Extras', 'Away Team Super-Over Extras']\n",
    "Match_Records = pd.merge(Match_Records, extras, on = 'Match ID', how = 'outer')\n",
    "\n",
    "#Reorder the columns to make the data more readable\n",
    "columns = ['Match ID', 'Season','City','Date','Home Team','Away Team', 'Toss Winner', 'Toss Decision', 'Result', 'DL Method', 'Winner', 'Home Team Super-Over Score', 'Away Team Super-Over Score', 'Home Team Super-Over Extras', 'Away Team Super-Over Extras', 'Home Team Score', 'Away Team Score', 'Win by Runs', 'Win by Wickets', 'Home Team Extras', 'Away Team Extras', 'MOM', 'Venue', 'Umpire 1', 'Umpire 2', 'Match Type']\n",
    "Match_Records = Match_Records[columns]\n",
    "Match_Records.head()\n",
    "\n"
   ]
  },
  {
   "cell_type": "markdown",
   "metadata": {},
   "source": [
    "Batting Match Records  \n",
    "The MatchRecord_Batsmen Data Set records the statistics of each batsman for every game across all the seasons. We can find out the runs scored by the bastman, the number of balls faced, the number of boundaries hit (4s and 6s), the strike rate, dismissal kind and the fielder who caught the ball to dismiss the batsman."
   ]
  },
  {
   "cell_type": "code",
   "execution_count": 8,
   "metadata": {},
   "outputs": [
    {
     "data": {
      "text/html": [
       "<div>\n",
       "<style>\n",
       "    .dataframe thead tr:only-child th {\n",
       "        text-align: right;\n",
       "    }\n",
       "\n",
       "    .dataframe thead th {\n",
       "        text-align: left;\n",
       "    }\n",
       "\n",
       "    .dataframe tbody tr th {\n",
       "        vertical-align: top;\n",
       "    }\n",
       "</style>\n",
       "<table border=\"1\" class=\"dataframe\">\n",
       "  <thead>\n",
       "    <tr style=\"text-align: right;\">\n",
       "      <th></th>\n",
       "      <th>Season</th>\n",
       "      <th>Match ID</th>\n",
       "      <th>Innings</th>\n",
       "      <th>Batting Team</th>\n",
       "      <th>Batsman</th>\n",
       "      <th>Batsman Runs</th>\n",
       "      <th>balls_faced</th>\n",
       "      <th>Fours</th>\n",
       "      <th>Sixes</th>\n",
       "      <th>SR</th>\n",
       "      <th>Dismissal Kind</th>\n",
       "      <th>Fielder</th>\n",
       "    </tr>\n",
       "  </thead>\n",
       "  <tbody>\n",
       "    <tr>\n",
       "      <th>0</th>\n",
       "      <td>2017</td>\n",
       "      <td>1</td>\n",
       "      <td>1</td>\n",
       "      <td>SRH</td>\n",
       "      <td>BCJ Cutting</td>\n",
       "      <td>16</td>\n",
       "      <td>6.0</td>\n",
       "      <td>0.0</td>\n",
       "      <td>2.0</td>\n",
       "      <td>266.67</td>\n",
       "      <td>not out</td>\n",
       "      <td>-</td>\n",
       "    </tr>\n",
       "    <tr>\n",
       "      <th>1</th>\n",
       "      <td>2017</td>\n",
       "      <td>1</td>\n",
       "      <td>1</td>\n",
       "      <td>SRH</td>\n",
       "      <td>DA Warner</td>\n",
       "      <td>14</td>\n",
       "      <td>8.0</td>\n",
       "      <td>2.0</td>\n",
       "      <td>1.0</td>\n",
       "      <td>175.00</td>\n",
       "      <td>caught</td>\n",
       "      <td>Mandeep Singh</td>\n",
       "    </tr>\n",
       "    <tr>\n",
       "      <th>2</th>\n",
       "      <td>2017</td>\n",
       "      <td>1</td>\n",
       "      <td>1</td>\n",
       "      <td>SRH</td>\n",
       "      <td>DJ Hooda</td>\n",
       "      <td>16</td>\n",
       "      <td>12.0</td>\n",
       "      <td>0.0</td>\n",
       "      <td>1.0</td>\n",
       "      <td>133.33</td>\n",
       "      <td>not out</td>\n",
       "      <td>-</td>\n",
       "    </tr>\n",
       "    <tr>\n",
       "      <th>3</th>\n",
       "      <td>2017</td>\n",
       "      <td>1</td>\n",
       "      <td>1</td>\n",
       "      <td>SRH</td>\n",
       "      <td>MC Henriques</td>\n",
       "      <td>52</td>\n",
       "      <td>37.0</td>\n",
       "      <td>3.0</td>\n",
       "      <td>2.0</td>\n",
       "      <td>140.54</td>\n",
       "      <td>caught</td>\n",
       "      <td>Sachin Baby</td>\n",
       "    </tr>\n",
       "    <tr>\n",
       "      <th>4</th>\n",
       "      <td>2017</td>\n",
       "      <td>1</td>\n",
       "      <td>1</td>\n",
       "      <td>SRH</td>\n",
       "      <td>S Dhawan</td>\n",
       "      <td>40</td>\n",
       "      <td>31.0</td>\n",
       "      <td>5.0</td>\n",
       "      <td>0.0</td>\n",
       "      <td>129.03</td>\n",
       "      <td>caught</td>\n",
       "      <td>Sachin Baby</td>\n",
       "    </tr>\n",
       "  </tbody>\n",
       "</table>\n",
       "</div>"
      ],
      "text/plain": [
       "   Season  Match ID  Innings Batting Team       Batsman  Batsman Runs  \\\n",
       "0    2017         1        1          SRH   BCJ Cutting            16   \n",
       "1    2017         1        1          SRH     DA Warner            14   \n",
       "2    2017         1        1          SRH      DJ Hooda            16   \n",
       "3    2017         1        1          SRH  MC Henriques            52   \n",
       "4    2017         1        1          SRH      S Dhawan            40   \n",
       "\n",
       "   balls_faced  Fours  Sixes      SR Dismissal Kind        Fielder  \n",
       "0          6.0    0.0    2.0  266.67        not out              -  \n",
       "1          8.0    2.0    1.0  175.00         caught  Mandeep Singh  \n",
       "2         12.0    0.0    1.0  133.33        not out              -  \n",
       "3         37.0    3.0    2.0  140.54         caught    Sachin Baby  \n",
       "4         31.0    5.0    0.0  129.03         caught    Sachin Baby  "
      ]
     },
     "execution_count": 8,
     "metadata": {},
     "output_type": "execute_result"
    }
   ],
   "source": [
    "MatchRecord_Batsmen2 = deliveries.groupby([\"Match ID\", \"Innings\", \"Batting Team\", \"Batsman\"])\n",
    "MatchRecord_Batsmen = MatchRecord_Batsmen2[\"Batsman Runs\"].sum().reset_index()\n",
    "\n",
    "# Ignore the wide balls.\n",
    "balls_faced = deliveries[deliveries[\"Wide Runs\"] == 0]\n",
    "balls_faced = balls_faced.groupby([\"Match ID\", \"Innings\", \"Batsman\"])[\"Batsman Runs\"].count().reset_index()\n",
    "balls_faced.columns = [\"Match ID\", \"Innings\", \"Batsman\", \"balls_faced\"]\n",
    "MatchRecord_Batsmen = MatchRecord_Batsmen.merge(balls_faced, left_on=[\"Match ID\", \"Innings\", \"Batsman\"], \n",
    "                        right_on=[\"Match ID\", \"Innings\", \"Batsman\"], how=\"left\")\n",
    "\n",
    "four_runs = deliveries[ deliveries[\"Batsman Runs\"] == 4]\n",
    "six_runs = deliveries[ deliveries[\"Batsman Runs\"] == 6]\n",
    "four_runs_batsman = four_runs.groupby([\"Match ID\", \"Innings\", \"Batsman\"])[\"Batsman Runs\"].count().reset_index()\n",
    "six_runs_batsman = six_runs.groupby([\"Match ID\", \"Innings\", \"Batsman\"])[\"Batsman Runs\"].count().reset_index()\n",
    "four_runs_batsman.columns = [\"Match ID\", \"Innings\", \"Batsman\", \"Fours\"]\n",
    "six_runs_batsman.columns = [\"Match ID\", \"Innings\", \"Batsman\", \"Sixes\"]\n",
    "\n",
    "MatchRecord_Batsmen = MatchRecord_Batsmen.merge(four_runs_batsman, left_on=[\"Match ID\", \"Innings\", \"Batsman\"], \n",
    "                        right_on=[\"Match ID\", \"Innings\", \"Batsman\"], how=\"left\")\n",
    "MatchRecord_Batsmen = MatchRecord_Batsmen.merge(six_runs_batsman, left_on=[\"Match ID\", \"Innings\", \"Batsman\"], \n",
    "                        right_on=[\"Match ID\", \"Innings\", \"Batsman\"], how=\"left\")\n",
    "MatchRecord_Batsmen['SR'] = np.round(MatchRecord_Batsmen['Batsman Runs'] / MatchRecord_Batsmen['balls_faced'] * 100, 2)\n",
    "\n",
    "for columns in [\"Batsman Runs\", \"Fours\", \"Sixes\", \"balls_faced\", \"SR\"]:\n",
    "    MatchRecord_Batsmen[columns] = MatchRecord_Batsmen[columns].fillna(0)\n",
    "\n",
    "out = deliveries[ pd.notnull(deliveries[\"Player Dismissed\"])]\n",
    "out = out[[\"Match ID\", \"Innings\", \"Player Dismissed\", \"Dismissal Kind\", \"Fielder\"]]\n",
    "out.rename(columns={\"Player Dismissed\": \"Batsman\"}, inplace=True)\n",
    "MatchRecord_Batsmen = MatchRecord_Batsmen.merge(out, left_on=[\"Match ID\", \"Innings\", \"Batsman\"], \n",
    "                        right_on=[\"Match ID\", \"Innings\", \"Batsman\"], how=\"left\")\n",
    "MatchRecord_Batsmen = matches[['ID','Season']].merge(MatchRecord_Batsmen, left_on = 'ID', right_on = 'Match ID', how = 'left').drop('ID', axis = 1)\n",
    "MatchRecord_Batsmen['Dismissal Kind']=MatchRecord_Batsmen['Dismissal Kind'].fillna('not out')\n",
    "MatchRecord_Batsmen['Fielder']=MatchRecord_Batsmen.Fielder.fillna('-')\n",
    "#batsmen.fillna(0,inplace=True)     #filling all the NaN values with 0\n",
    "MatchRecord_Batsmen.head()\n"
   ]
  },
  {
   "cell_type": "markdown",
   "metadata": {},
   "source": [
    "Plot the performance of top 5 batsmen over seasons  \n"
   ]
  },
  {
   "cell_type": "markdown",
   "metadata": {},
   "source": [
    "This data set provides us with the most runs scored by the batsmen across all the seasons. \n",
    "From this we find that Raina is the leading run scorer, followed by the Indian Team Captain Kohli, Sharma, Gambhir, and Warner.\n",
    "We can see that Raina's progression has been steady across all the seasons while Kohli has scored the highest runs by a batsman in a particular season during 2016 which helped him to reach the 2nd spot in terms of the leading scorers. "
   ]
  },
  {
   "cell_type": "code",
   "execution_count": 9,
   "metadata": {},
   "outputs": [
    {
     "data": {
      "text/html": [
       "<div>\n",
       "<style>\n",
       "    .dataframe thead tr:only-child th {\n",
       "        text-align: right;\n",
       "    }\n",
       "\n",
       "    .dataframe thead th {\n",
       "        text-align: left;\n",
       "    }\n",
       "\n",
       "    .dataframe tbody tr th {\n",
       "        vertical-align: top;\n",
       "    }\n",
       "</style>\n",
       "<table border=\"1\" class=\"dataframe\">\n",
       "  <thead>\n",
       "    <tr style=\"text-align: right;\">\n",
       "      <th>Season</th>\n",
       "      <th>2008</th>\n",
       "      <th>2009</th>\n",
       "      <th>2010</th>\n",
       "      <th>2011</th>\n",
       "      <th>2012</th>\n",
       "      <th>2013</th>\n",
       "      <th>2014</th>\n",
       "      <th>2015</th>\n",
       "      <th>2016</th>\n",
       "      <th>2017</th>\n",
       "    </tr>\n",
       "    <tr>\n",
       "      <th>Batsman</th>\n",
       "      <th></th>\n",
       "      <th></th>\n",
       "      <th></th>\n",
       "      <th></th>\n",
       "      <th></th>\n",
       "      <th></th>\n",
       "      <th></th>\n",
       "      <th></th>\n",
       "      <th></th>\n",
       "      <th></th>\n",
       "    </tr>\n",
       "  </thead>\n",
       "  <tbody>\n",
       "    <tr>\n",
       "      <th>SK Raina</th>\n",
       "      <td>421.0</td>\n",
       "      <td>434.0</td>\n",
       "      <td>528.0</td>\n",
       "      <td>438.0</td>\n",
       "      <td>441.0</td>\n",
       "      <td>548.0</td>\n",
       "      <td>523.0</td>\n",
       "      <td>374.0</td>\n",
       "      <td>399.0</td>\n",
       "      <td>442.0</td>\n",
       "    </tr>\n",
       "    <tr>\n",
       "      <th>V Kohli</th>\n",
       "      <td>165.0</td>\n",
       "      <td>246.0</td>\n",
       "      <td>307.0</td>\n",
       "      <td>557.0</td>\n",
       "      <td>364.0</td>\n",
       "      <td>639.0</td>\n",
       "      <td>359.0</td>\n",
       "      <td>505.0</td>\n",
       "      <td>973.0</td>\n",
       "      <td>308.0</td>\n",
       "    </tr>\n",
       "    <tr>\n",
       "      <th>RG Sharma</th>\n",
       "      <td>404.0</td>\n",
       "      <td>362.0</td>\n",
       "      <td>404.0</td>\n",
       "      <td>372.0</td>\n",
       "      <td>433.0</td>\n",
       "      <td>538.0</td>\n",
       "      <td>390.0</td>\n",
       "      <td>482.0</td>\n",
       "      <td>489.0</td>\n",
       "      <td>333.0</td>\n",
       "    </tr>\n",
       "    <tr>\n",
       "      <th>G Gambhir</th>\n",
       "      <td>534.0</td>\n",
       "      <td>286.0</td>\n",
       "      <td>277.0</td>\n",
       "      <td>378.0</td>\n",
       "      <td>590.0</td>\n",
       "      <td>406.0</td>\n",
       "      <td>335.0</td>\n",
       "      <td>327.0</td>\n",
       "      <td>501.0</td>\n",
       "      <td>498.0</td>\n",
       "    </tr>\n",
       "    <tr>\n",
       "      <th>DA Warner</th>\n",
       "      <td>NaN</td>\n",
       "      <td>163.0</td>\n",
       "      <td>282.0</td>\n",
       "      <td>324.0</td>\n",
       "      <td>256.0</td>\n",
       "      <td>410.0</td>\n",
       "      <td>528.0</td>\n",
       "      <td>562.0</td>\n",
       "      <td>848.0</td>\n",
       "      <td>641.0</td>\n",
       "    </tr>\n",
       "  </tbody>\n",
       "</table>\n",
       "</div>"
      ],
      "text/plain": [
       "Season      2008   2009   2010   2011   2012   2013   2014   2015   2016  \\\n",
       "Batsman                                                                    \n",
       "SK Raina   421.0  434.0  528.0  438.0  441.0  548.0  523.0  374.0  399.0   \n",
       "V Kohli    165.0  246.0  307.0  557.0  364.0  639.0  359.0  505.0  973.0   \n",
       "RG Sharma  404.0  362.0  404.0  372.0  433.0  538.0  390.0  482.0  489.0   \n",
       "G Gambhir  534.0  286.0  277.0  378.0  590.0  406.0  335.0  327.0  501.0   \n",
       "DA Warner    NaN  163.0  282.0  324.0  256.0  410.0  528.0  562.0  848.0   \n",
       "\n",
       "Season      2017  \n",
       "Batsman           \n",
       "SK Raina   442.0  \n",
       "V Kohli    308.0  \n",
       "RG Sharma  333.0  \n",
       "G Gambhir  498.0  \n",
       "DA Warner  641.0  "
      ]
     },
     "execution_count": 9,
     "metadata": {},
     "output_type": "execute_result"
    }
   ],
   "source": [
    "top_5_batsmen = MatchRecord_Batsmen.groupby(['Season', 'Batting Team', 'Batsman'])['Batsman Runs'].sum().reset_index()\n",
    "top_5_batsmen = top_5_batsmen.groupby(['Season', 'Batsman'])['Batsman Runs'].sum().unstack().T\n",
    "top_5_batsmen['Total'] = top_5_batsmen.sum(axis=1) \n",
    "top_5_batsmen = top_5_batsmen.sort_values(by = 'Total', ascending = False).drop('Total', 1)\n",
    "top_5_batsmen.head()"
   ]
  },
  {
   "cell_type": "code",
   "execution_count": 10,
   "metadata": {},
   "outputs": [
    {
     "data": {
      "image/png": "[encoded data removed]",
      "text/plain": [
       "<matplotlib.figure.Figure at 0x10a833828>"
      ]
     },
     "metadata": {},
     "output_type": "display_data"
    }
   ],
   "source": [
    "Top_5_batsmen_Progress = top_5_batsmen[:5].T.plot()\n",
    "plt.show()"
   ]
  },
  {
   "cell_type": "markdown",
   "metadata": {},
   "source": [
    "Hard Hitter Batsmen? Percentage of total runs scored through boundaries for each batsman"
   ]
  },
  {
   "cell_type": "markdown",
   "metadata": {},
   "source": [
    "In this bar graph below, we can see the percentage of total runs scored in boundaries by the leading runs scorer in IPL. We can see that even though Raina is the leading run scorer, his boundaries percentage is pretty similar to the others. However, Gayle and Sehwag who are at 7th and 15th spot respectively have the highest runs scored by hitting 4s and 6s. \n",
    "If there was a scenario of a tie breaker (Super Over), I would ideally want Gayle and Sehwag in my team as those two are the most explosives batmen across all the seasons of the IPL."
   ]
  },
  {
   "cell_type": "code",
   "execution_count": 11,
   "metadata": {},
   "outputs": [
    {
     "data": {
      "image/png": "[encoded data removed]",
      "text/plain": [
       "<matplotlib.figure.Figure at 0x10a833048>"
      ]
     },
     "metadata": {},
     "output_type": "display_data"
    }
   ],
   "source": [
    "boundaries_runs = MatchRecord_Batsmen.groupby(['Batsman'])['Batsman Runs', 'Fours', 'Sixes'].sum().reset_index()\n",
    "boundaries_runs['Boundaries'] = (boundaries_runs['Fours'] * 4) + (boundaries_runs['Sixes'] * 6)\n",
    "boundaries_runs['% of Total Runs Scored in Boundaries'] = np.round(boundaries_runs['Boundaries'] / boundaries_runs['Batsman Runs'] * 100, 2)\n",
    "boundaries_runs = boundaries_runs.sort_values(by = 'Batsman Runs', ascending = False)\n",
    "boundaries_runs[:15].plot(x= 'Batsman', y = '% of Total Runs Scored in Boundaries', kind = 'bar')\n",
    "plt.show()\n"
   ]
  },
  {
   "cell_type": "markdown",
   "metadata": {},
   "source": [
    "Strike Rate of top batsmen"
   ]
  },
  {
   "cell_type": "markdown",
   "metadata": {},
   "source": [
    "The data set below gives us the strike rate for the top scorers in IPL. We can see that Gayle and Sehwag have the highest strike rate. This makes sense as they score most of their runs by hitting boundaries rather than taking singles, doubles or triples.   \n",
    "We can find out that in order to score a lot of runs, players need to have a mix of boundary hitting abilities as well as running between the wickets. If players rely soley on hitting boundaries, we can see their total runs are lower than those players who have a mix of both the talents.\n"
   ]
  },
  {
   "cell_type": "code",
   "execution_count": 12,
   "metadata": {},
   "outputs": [
    {
     "data": {
      "text/html": [
       "<div>\n",
       "<style>\n",
       "    .dataframe thead tr:only-child th {\n",
       "        text-align: right;\n",
       "    }\n",
       "\n",
       "    .dataframe thead th {\n",
       "        text-align: left;\n",
       "    }\n",
       "\n",
       "    .dataframe tbody tr th {\n",
       "        vertical-align: top;\n",
       "    }\n",
       "</style>\n",
       "<table border=\"1\" class=\"dataframe\">\n",
       "  <thead>\n",
       "    <tr style=\"text-align: right;\">\n",
       "      <th></th>\n",
       "      <th>Batsman Runs</th>\n",
       "      <th>balls_faced</th>\n",
       "      <th>SR</th>\n",
       "    </tr>\n",
       "    <tr>\n",
       "      <th>Batsman</th>\n",
       "      <th></th>\n",
       "      <th></th>\n",
       "      <th></th>\n",
       "    </tr>\n",
       "  </thead>\n",
       "  <tbody>\n",
       "    <tr>\n",
       "      <th>SK Raina</th>\n",
       "      <td>4548</td>\n",
       "      <td>3267.0</td>\n",
       "      <td>139.21</td>\n",
       "    </tr>\n",
       "    <tr>\n",
       "      <th>V Kohli</th>\n",
       "      <td>4423</td>\n",
       "      <td>3405.0</td>\n",
       "      <td>129.90</td>\n",
       "    </tr>\n",
       "    <tr>\n",
       "      <th>RG Sharma</th>\n",
       "      <td>4207</td>\n",
       "      <td>3214.0</td>\n",
       "      <td>130.90</td>\n",
       "    </tr>\n",
       "    <tr>\n",
       "      <th>G Gambhir</th>\n",
       "      <td>4132</td>\n",
       "      <td>3316.0</td>\n",
       "      <td>124.61</td>\n",
       "    </tr>\n",
       "    <tr>\n",
       "      <th>DA Warner</th>\n",
       "      <td>4014</td>\n",
       "      <td>2825.0</td>\n",
       "      <td>142.09</td>\n",
       "    </tr>\n",
       "    <tr>\n",
       "      <th>RV Uthappa</th>\n",
       "      <td>3778</td>\n",
       "      <td>2870.0</td>\n",
       "      <td>131.64</td>\n",
       "    </tr>\n",
       "    <tr>\n",
       "      <th>CH Gayle</th>\n",
       "      <td>3651</td>\n",
       "      <td>2409.0</td>\n",
       "      <td>151.56</td>\n",
       "    </tr>\n",
       "    <tr>\n",
       "      <th>S Dhawan</th>\n",
       "      <td>3561</td>\n",
       "      <td>2922.0</td>\n",
       "      <td>121.87</td>\n",
       "    </tr>\n",
       "    <tr>\n",
       "      <th>MS Dhoni</th>\n",
       "      <td>3560</td>\n",
       "      <td>2604.0</td>\n",
       "      <td>136.71</td>\n",
       "    </tr>\n",
       "    <tr>\n",
       "      <th>AB de Villiers</th>\n",
       "      <td>3486</td>\n",
       "      <td>2348.0</td>\n",
       "      <td>148.47</td>\n",
       "    </tr>\n",
       "    <tr>\n",
       "      <th>AM Rahane</th>\n",
       "      <td>3057</td>\n",
       "      <td>2535.0</td>\n",
       "      <td>120.59</td>\n",
       "    </tr>\n",
       "    <tr>\n",
       "      <th>YK Pathan</th>\n",
       "      <td>2922</td>\n",
       "      <td>2000.0</td>\n",
       "      <td>146.10</td>\n",
       "    </tr>\n",
       "    <tr>\n",
       "      <th>KD Karthik</th>\n",
       "      <td>2903</td>\n",
       "      <td>2305.0</td>\n",
       "      <td>125.94</td>\n",
       "    </tr>\n",
       "    <tr>\n",
       "      <th>BB McCullum</th>\n",
       "      <td>2755</td>\n",
       "      <td>2102.0</td>\n",
       "      <td>131.07</td>\n",
       "    </tr>\n",
       "    <tr>\n",
       "      <th>V Sehwag</th>\n",
       "      <td>2728</td>\n",
       "      <td>1755.0</td>\n",
       "      <td>155.44</td>\n",
       "    </tr>\n",
       "  </tbody>\n",
       "</table>\n",
       "</div>"
      ],
      "text/plain": [
       "                Batsman Runs  balls_faced      SR\n",
       "Batsman                                          \n",
       "SK Raina                4548       3267.0  139.21\n",
       "V Kohli                 4423       3405.0  129.90\n",
       "RG Sharma               4207       3214.0  130.90\n",
       "G Gambhir               4132       3316.0  124.61\n",
       "DA Warner               4014       2825.0  142.09\n",
       "RV Uthappa              3778       2870.0  131.64\n",
       "CH Gayle                3651       2409.0  151.56\n",
       "S Dhawan                3561       2922.0  121.87\n",
       "MS Dhoni                3560       2604.0  136.71\n",
       "AB de Villiers          3486       2348.0  148.47\n",
       "AM Rahane               3057       2535.0  120.59\n",
       "YK Pathan               2922       2000.0  146.10\n",
       "KD Karthik              2903       2305.0  125.94\n",
       "BB McCullum             2755       2102.0  131.07\n",
       "V Sehwag                2728       1755.0  155.44"
      ]
     },
     "execution_count": 12,
     "metadata": {},
     "output_type": "execute_result"
    }
   ],
   "source": [
    "Strike_Rate = MatchRecord_Batsmen.groupby(['Batsman'])['Batsman Runs', 'balls_faced'].sum().reset_index()\n",
    "Strike_Rate['SR'] = np.round(Strike_Rate['Batsman Runs'] / Strike_Rate['balls_faced'] * 100, 2)\n",
    "Strike_Rate = Strike_Rate.groupby(['Batsman']).sum().sort_values(by = 'Batsman Runs', ascending = False)[:15]\n",
    "Strike_Rate"
   ]
  },
  {
   "cell_type": "markdown",
   "metadata": {},
   "source": [
    "Most common dismissal type for top batsmen"
   ]
  },
  {
   "cell_type": "markdown",
   "metadata": {},
   "source": [
    "In the Pie Chart below, we can see the ways in which the batsmen get dismissed. We find that most of the batsmen get dismissed by getting caught in the field. This would match our assumption as in a Twenty20 format, players tend to be more aggressive in order to hit lot more boundaries and thereby getting caught in the field. "
   ]
  },
  {
   "cell_type": "code",
   "execution_count": 13,
   "metadata": {},
   "outputs": [
    {
     "data": {
      "image/png": "[encoded data removed]",
      "text/plain": [
       "<matplotlib.figure.Figure at 0x10793d470>"
      ]
     },
     "metadata": {},
     "output_type": "display_data"
    }
   ],
   "source": [
    "MatchRecord_Batsmen2=MatchRecord_Batsmen[MatchRecord_Batsmen['Dismissal Kind']!= \"not out\"]\n",
    "MatchRecord_Batsmen2\n",
    "out_batsman = MatchRecord_Batsmen2['Dismissal Kind'].value_counts()\n",
    "fig, ax = plt.subplots()\n",
    "ax.pie(out_batsman, labels = None, autopct='%1.1f%%', startangle=90, shadow = True)\n",
    "ax.legend(loc='best', labels=out_batsman.index)\n",
    "plt.show()"
   ]
  },
  {
   "cell_type": "markdown",
   "metadata": {},
   "source": [
    "Bowling Match Records\n",
    "The MatchRecord_Bowler Data Set records the statistics of each bowler for every game across all the seasons. We can find out the overs bowled by the bowler, the number of wides and no balls bowled, the number of wickets taken, and the economy for a bowler."
   ]
  },
  {
   "cell_type": "code",
   "execution_count": 14,
   "metadata": {},
   "outputs": [
    {
     "data": {
      "text/html": [
       "<div>\n",
       "<style>\n",
       "    .dataframe thead tr:only-child th {\n",
       "        text-align: right;\n",
       "    }\n",
       "\n",
       "    .dataframe thead th {\n",
       "        text-align: left;\n",
       "    }\n",
       "\n",
       "    .dataframe tbody tr th {\n",
       "        vertical-align: top;\n",
       "    }\n",
       "</style>\n",
       "<table border=\"1\" class=\"dataframe\">\n",
       "  <thead>\n",
       "    <tr style=\"text-align: right;\">\n",
       "      <th></th>\n",
       "      <th>Season</th>\n",
       "      <th>Match ID</th>\n",
       "      <th>Innings</th>\n",
       "      <th>Bowling Team</th>\n",
       "      <th>Bowler</th>\n",
       "      <th>Over(s)</th>\n",
       "      <th>Wide Runs</th>\n",
       "      <th>No Ball Runs</th>\n",
       "      <th>Runs</th>\n",
       "      <th>Extras</th>\n",
       "      <th>Wickets</th>\n",
       "      <th>Economy</th>\n",
       "    </tr>\n",
       "  </thead>\n",
       "  <tbody>\n",
       "    <tr>\n",
       "      <th>0</th>\n",
       "      <td>2017</td>\n",
       "      <td>1</td>\n",
       "      <td>1</td>\n",
       "      <td>RCB</td>\n",
       "      <td>A Choudhary</td>\n",
       "      <td>4</td>\n",
       "      <td>3</td>\n",
       "      <td>1</td>\n",
       "      <td>55</td>\n",
       "      <td>4</td>\n",
       "      <td>1.0</td>\n",
       "      <td>13.75</td>\n",
       "    </tr>\n",
       "    <tr>\n",
       "      <th>1</th>\n",
       "      <td>2017</td>\n",
       "      <td>1</td>\n",
       "      <td>1</td>\n",
       "      <td>RCB</td>\n",
       "      <td>S Aravind</td>\n",
       "      <td>3</td>\n",
       "      <td>0</td>\n",
       "      <td>0</td>\n",
       "      <td>36</td>\n",
       "      <td>0</td>\n",
       "      <td>0.0</td>\n",
       "      <td>12.00</td>\n",
       "    </tr>\n",
       "    <tr>\n",
       "      <th>2</th>\n",
       "      <td>2017</td>\n",
       "      <td>1</td>\n",
       "      <td>1</td>\n",
       "      <td>RCB</td>\n",
       "      <td>SR Watson</td>\n",
       "      <td>3</td>\n",
       "      <td>0</td>\n",
       "      <td>0</td>\n",
       "      <td>41</td>\n",
       "      <td>0</td>\n",
       "      <td>0.0</td>\n",
       "      <td>13.67</td>\n",
       "    </tr>\n",
       "    <tr>\n",
       "      <th>3</th>\n",
       "      <td>2017</td>\n",
       "      <td>1</td>\n",
       "      <td>1</td>\n",
       "      <td>RCB</td>\n",
       "      <td>STR Binny</td>\n",
       "      <td>1</td>\n",
       "      <td>0</td>\n",
       "      <td>0</td>\n",
       "      <td>10</td>\n",
       "      <td>0</td>\n",
       "      <td>1.0</td>\n",
       "      <td>10.00</td>\n",
       "    </tr>\n",
       "    <tr>\n",
       "      <th>4</th>\n",
       "      <td>2017</td>\n",
       "      <td>1</td>\n",
       "      <td>1</td>\n",
       "      <td>RCB</td>\n",
       "      <td>TM Head</td>\n",
       "      <td>1</td>\n",
       "      <td>0</td>\n",
       "      <td>0</td>\n",
       "      <td>11</td>\n",
       "      <td>0</td>\n",
       "      <td>0.0</td>\n",
       "      <td>11.00</td>\n",
       "    </tr>\n",
       "  </tbody>\n",
       "</table>\n",
       "</div>"
      ],
      "text/plain": [
       "   Season  Match ID  Innings Bowling Team       Bowler  Over(s)  Wide Runs  \\\n",
       "0    2017         1        1          RCB  A Choudhary        4          3   \n",
       "1    2017         1        1          RCB    S Aravind        3          0   \n",
       "2    2017         1        1          RCB    SR Watson        3          0   \n",
       "3    2017         1        1          RCB    STR Binny        1          0   \n",
       "4    2017         1        1          RCB      TM Head        1          0   \n",
       "\n",
       "   No Ball Runs  Runs  Extras  Wickets  Economy  \n",
       "0             1    55       4      1.0    13.75  \n",
       "1             0    36       0      0.0    12.00  \n",
       "2             0    41       0      0.0    13.67  \n",
       "3             0    10       0      1.0    10.00  \n",
       "4             0    11       0      0.0    11.00  "
      ]
     },
     "execution_count": 14,
     "metadata": {},
     "output_type": "execute_result"
    }
   ],
   "source": [
    "MatchRecord_Bowler_2 = deliveries.groupby([\"Match ID\", \"Innings\", \"Bowling Team\", \"Bowler\", \"Over(s)\"])\n",
    "MatchRecord_Bowler = MatchRecord_Bowler_2[\"Total Runs\", \"Wide Runs\", \"Bye Runs\", \"Leg Bye Runs\", \"No Ball Runs\"].sum().reset_index()\n",
    "\n",
    "MatchRecord_Bowler[\"Runs\"] = MatchRecord_Bowler[\"Total Runs\"] - (MatchRecord_Bowler[\"Bye Runs\"] + MatchRecord_Bowler[\"Leg Bye Runs\"])\n",
    "MatchRecord_Bowler[\"Extras\"] = MatchRecord_Bowler[\"Wide Runs\"] + MatchRecord_Bowler[\"No Ball Runs\"]\n",
    "\n",
    "del( MatchRecord_Bowler[\"Bye Runs\"])\n",
    "del( MatchRecord_Bowler[\"Leg Bye Runs\"])\n",
    "del( MatchRecord_Bowler[\"Total Runs\"])\n",
    "\n",
    "Wicket_Type = [\"bowled\", \"caught\", \"lbw\", \"stumped\", \"caught and bowled\", \"hit wicket\"]\n",
    "Out = deliveries[deliveries[\"Dismissal Kind\"].isin(Wicket_Type)]\n",
    "Out = Out.groupby([\"Match ID\", \"Innings\", \"Bowling Team\", \"Bowler\", \"Over(s)\"])[\"Dismissal Kind\"].count().reset_index()\n",
    "Out.rename(columns={\"Dismissal Kind\": \"Wickets\"}, inplace=True)\n",
    "\n",
    "MatchRecord_Bowler = MatchRecord_Bowler.merge(Out, left_on=[\"Match ID\", \"Innings\", \"Bowling Team\", \"Bowler\", \"Over(s)\"], \n",
    "                        right_on=[\"Match ID\", \"Innings\", \"Bowling Team\", \"Bowler\", \"Over(s)\"], how=\"left\")\n",
    "MatchRecord_Bowler[\"Wickets\"] = MatchRecord_Bowler[\"Wickets\"].fillna(0)\n",
    "\n",
    "MatchRecord_Bowler3 = MatchRecord_Bowler.groupby(['Match ID', 'Innings', 'Bowling Team', 'Bowler'])['Over(s)'].count().reset_index()\n",
    "MatchRecord_Bowler = MatchRecord_Bowler.groupby(['Match ID', 'Innings', 'Bowling Team', 'Bowler']).sum().reset_index().drop('Over(s)', 1)\n",
    "MatchRecord_Bowler = MatchRecord_Bowler3.merge(MatchRecord_Bowler, on=[\"Match ID\", \"Innings\", \"Bowling Team\", \"Bowler\"], how = 'left')\n",
    "MatchRecord_Bowler['Economy'] = np.round(MatchRecord_Bowler['Runs'] / MatchRecord_Bowler['Over(s)'] , 2)\n",
    "MatchRecord_Bowler = matches[['ID','Season']].merge(MatchRecord_Bowler, left_on = 'ID', right_on = 'Match ID', how = 'left').drop('ID', axis = 1)\n",
    "MatchRecord_Bowler.head()\n"
   ]
  },
  {
   "cell_type": "markdown",
   "metadata": {},
   "source": [
    "Extra runs conceded by bowlers\n"
   ]
  },
  {
   "cell_type": "markdown",
   "metadata": {},
   "source": [
    "The data set below shows us the total extras bowled by a bowler in a season.   \n",
    "We find that Malinga has bowled the highest numbers of extras across all the seasons evethough he did not play two seasons.   \n",
    "Note: NP- Did not Play for the Season"
   ]
  },
  {
   "cell_type": "code",
   "execution_count": 15,
   "metadata": {},
   "outputs": [
    {
     "data": {
      "text/html": [
       "<div>\n",
       "<style>\n",
       "    .dataframe thead tr:only-child th {\n",
       "        text-align: right;\n",
       "    }\n",
       "\n",
       "    .dataframe thead th {\n",
       "        text-align: left;\n",
       "    }\n",
       "\n",
       "    .dataframe tbody tr th {\n",
       "        vertical-align: top;\n",
       "    }\n",
       "</style>\n",
       "<table border=\"1\" class=\"dataframe\">\n",
       "  <thead>\n",
       "    <tr style=\"text-align: right;\">\n",
       "      <th>Season</th>\n",
       "      <th>2008</th>\n",
       "      <th>2009</th>\n",
       "      <th>2010</th>\n",
       "      <th>2011</th>\n",
       "      <th>2012</th>\n",
       "      <th>2013</th>\n",
       "      <th>2014</th>\n",
       "      <th>2015</th>\n",
       "      <th>2016</th>\n",
       "      <th>2017</th>\n",
       "      <th>Total</th>\n",
       "    </tr>\n",
       "    <tr>\n",
       "      <th>Bowler</th>\n",
       "      <th></th>\n",
       "      <th></th>\n",
       "      <th></th>\n",
       "      <th></th>\n",
       "      <th></th>\n",
       "      <th></th>\n",
       "      <th></th>\n",
       "      <th></th>\n",
       "      <th></th>\n",
       "      <th></th>\n",
       "      <th></th>\n",
       "    </tr>\n",
       "  </thead>\n",
       "  <tbody>\n",
       "    <tr>\n",
       "      <th>SL Malinga</th>\n",
       "      <td>NP</td>\n",
       "      <td>31</td>\n",
       "      <td>24</td>\n",
       "      <td>22</td>\n",
       "      <td>19</td>\n",
       "      <td>15</td>\n",
       "      <td>9</td>\n",
       "      <td>19</td>\n",
       "      <td>NP</td>\n",
       "      <td>22</td>\n",
       "      <td>161.0</td>\n",
       "    </tr>\n",
       "    <tr>\n",
       "      <th>P Kumar</th>\n",
       "      <td>14</td>\n",
       "      <td>14</td>\n",
       "      <td>22</td>\n",
       "      <td>11</td>\n",
       "      <td>22</td>\n",
       "      <td>18</td>\n",
       "      <td>1</td>\n",
       "      <td>14</td>\n",
       "      <td>18</td>\n",
       "      <td>11</td>\n",
       "      <td>145.0</td>\n",
       "    </tr>\n",
       "    <tr>\n",
       "      <th>DW Steyn</th>\n",
       "      <td>24</td>\n",
       "      <td>5</td>\n",
       "      <td>29</td>\n",
       "      <td>13</td>\n",
       "      <td>10</td>\n",
       "      <td>22</td>\n",
       "      <td>6</td>\n",
       "      <td>2</td>\n",
       "      <td>1</td>\n",
       "      <td>NP</td>\n",
       "      <td>112.0</td>\n",
       "    </tr>\n",
       "    <tr>\n",
       "      <th>UT Yadav</th>\n",
       "      <td>NP</td>\n",
       "      <td>NP</td>\n",
       "      <td>10</td>\n",
       "      <td>5</td>\n",
       "      <td>18</td>\n",
       "      <td>20</td>\n",
       "      <td>15</td>\n",
       "      <td>15</td>\n",
       "      <td>7</td>\n",
       "      <td>16</td>\n",
       "      <td>106.0</td>\n",
       "    </tr>\n",
       "    <tr>\n",
       "      <th>I Sharma</th>\n",
       "      <td>21</td>\n",
       "      <td>16</td>\n",
       "      <td>11</td>\n",
       "      <td>11</td>\n",
       "      <td>NP</td>\n",
       "      <td>19</td>\n",
       "      <td>2</td>\n",
       "      <td>5</td>\n",
       "      <td>13</td>\n",
       "      <td>7</td>\n",
       "      <td>105.0</td>\n",
       "    </tr>\n",
       "  </tbody>\n",
       "</table>\n",
       "</div>"
      ],
      "text/plain": [
       "Season     2008 2009 2010 2011 2012 2013 2014 2015 2016 2017  Total\n",
       "Bowler                                                             \n",
       "SL Malinga   NP   31   24   22   19   15    9   19   NP   22  161.0\n",
       "P Kumar      14   14   22   11   22   18    1   14   18   11  145.0\n",
       "DW Steyn     24    5   29   13   10   22    6    2    1   NP  112.0\n",
       "UT Yadav     NP   NP   10    5   18   20   15   15    7   16  106.0\n",
       "I Sharma     21   16   11   11   NP   19    2    5   13    7  105.0"
      ]
     },
     "execution_count": 15,
     "metadata": {},
     "output_type": "execute_result"
    }
   ],
   "source": [
    "Extra_Runs = MatchRecord_Bowler.groupby(['Season', 'Bowler'])['Extras'].sum().unstack().T\n",
    "Extra_Runs['Total'] = Extra_Runs.sum(axis=1)\n",
    "Extra_Runs.sort_values('Total', ascending = False, inplace = True)\n",
    "Extra_Runs = Extra_Runs.fillna('NP')\n",
    "Extra_Runs.head()"
   ]
  },
  {
   "cell_type": "markdown",
   "metadata": {},
   "source": [
    "Player of the match"
   ]
  },
  {
   "cell_type": "markdown",
   "metadata": {},
   "source": [
    "We find that Gayle has been awarded the most number of Man of the Matches. He is the same player who scores most of his runs through boundaries.  \n",
    "We also find that all the players in the bar graph below are all batsmen. This shows that bowlers rarely get awarded Man of the Matches. No wonder people complain that Cricket is a Batsman's Game. Either the awarders are biased in favor towards the batsmen or the standards set for bowlers to win man of the matches awards are set too high in comparison to the batsmen."
   ]
  },
  {
   "cell_type": "code",
   "execution_count": 16,
   "metadata": {},
   "outputs": [
    {
     "data": {
      "image/png": "[encoded data removed]",
      "text/plain": [
       "<matplotlib.figure.Figure at 0x107bad9e8>"
      ]
     },
     "metadata": {},
     "output_type": "display_data"
    }
   ],
   "source": [
    "matches['MOM'].value_counts()[:10].plot(kind = 'bar')\n",
    "plt.show()\n",
    "\n"
   ]
  },
  {
   "cell_type": "markdown",
   "metadata": {},
   "source": [
    "Impact of toss on the match outcome"
   ]
  },
  {
   "cell_type": "markdown",
   "metadata": {},
   "source": [
    "The graphs below show us result for teams that won the toss in each season.\n",
    "Interestingly, we find that some teams have managed to win the gam,e after winning the toss a lot of times for a given season, while some of them have managed to lose a lot of games after winning the toss."
   ]
  },
  {
   "cell_type": "code",
   "execution_count": 17,
   "metadata": {},
   "outputs": [
    {
     "data": {
      "image/png": "[encoded data removed]",
      "text/plain": [
       "<matplotlib.figure.Figure at 0x107de4e80>"
      ]
     },
     "metadata": {},
     "output_type": "display_data"
    },
    {
     "data": {
      "image/png": "[encoded data removed]",
      "text/plain": [
       "<matplotlib.figure.Figure at 0x10aa1e898>"
      ]
     },
     "metadata": {},
     "output_type": "display_data"
    },
    {
     "data": {
      "image/png": "[encoded data removed]",
      "text/plain": [
       "<matplotlib.figure.Figure at 0x107ddc240>"
      ]
     },
     "metadata": {},
     "output_type": "display_data"
    },
    {
     "data": {
      "image/png": "[encoded data removed]",
      "text/plain": [
       "<matplotlib.figure.Figure at 0x10813a898>"
      ]
     },
     "metadata": {},
     "output_type": "display_data"
    },
    {
     "data": {
      "image/png": "[encoded data removed]",
      "text/plain": [
       "<matplotlib.figure.Figure at 0x109d134e0>"
      ]
     },
     "metadata": {},
     "output_type": "display_data"
    },
    {
     "data": {
      "image/png": "[encoded data removed]",
      "text/plain": [
       "<matplotlib.figure.Figure at 0x10a6294a8>"
      ]
     },
     "metadata": {},
     "output_type": "display_data"
    },
    {
     "data": {
      "image/png": "[encoded data removed]",
      "text/plain": [
       "<matplotlib.figure.Figure at 0x10d76f2b0>"
      ]
     },
     "metadata": {},
     "output_type": "display_data"
    },
    {
     "data": {
      "image/png": "[encoded data removed]",
      "text/plain": [
       "<matplotlib.figure.Figure at 0x10d796be0>"
      ]
     },
     "metadata": {},
     "output_type": "display_data"
    },
    {
     "data": {
      "image/png": "[encoded data removed]",
      "text/plain": [
       "<matplotlib.figure.Figure at 0x109a776d8>"
      ]
     },
     "metadata": {},
     "output_type": "display_data"
    },
    {
     "data": {
      "image/png": "[encoded data removed]",
      "text/plain": [
       "<matplotlib.figure.Figure at 0x10d674978>"
      ]
     },
     "metadata": {},
     "output_type": "display_data"
    }
   ],
   "source": [
    "Toss = Match_Records.groupby(['Season', 'Toss Winner']).Winner.value_counts().reset_index(name = 'Count')\n",
    "Toss['Result'] = np.where(Toss[\"Toss Winner\"] == Toss[\"Winner\"], 'Lost', 'Won')\n",
    "Toss_BatBowl = Toss.groupby(['Season', 'Toss Winner','Result'])['Count'].sum().reset_index()\n",
    "\n",
    "for year in range(2008, 2018, 1):\n",
    "    Toss_BatBowl2 = Toss_BatBowl[Toss_BatBowl['Season'] == year]\n",
    "    plot = sns.barplot(x=\"Toss Winner\", y=\"Count\", hue=\"Result\", data=Toss_BatBowl2)\n",
    "    plot.set_title('Matches won/lost by teams winning toss \\nSeason ' +str(year))\n",
    "    plt.show()\n",
    "    year+=1\n",
    "    "
   ]
  },
  {
   "cell_type": "markdown",
   "metadata": {},
   "source": [
    "The Pie Chart belows shows us the Win and Loss percentage for a team that won the toss. We find that after taking consideration to all the games for all the seasons, the win percentage is slightly higher than the loss percentage for a team that wins the toss. It shows us that winning the toss may be slightly beneficial to the team as that is what they were comfortable with doing. Also sometimes, conditions matter a little as well, sometimes it is beneficial for a team to bat first while sometimes it is better for a team to chase. Conditions such as the pitch, rain, dew factor have a slight effect to the game and may favor the team that exploits it. "
   ]
  },
  {
   "cell_type": "code",
   "execution_count": 18,
   "metadata": {},
   "outputs": [
    {
     "data": {
      "image/png": "[encoded data removed]",
      "text/plain": [
       "<matplotlib.figure.Figure at 0x107dc60b8>"
      ]
     },
     "metadata": {},
     "output_type": "display_data"
    }
   ],
   "source": [
    "tmw=matches[matches['Toss Winner']==matches['Winner']]\n",
    "slices=[len(tmw),(636-len(tmw))]\n",
    "labels=['yes','no']\n",
    "plt.pie(slices,labels=labels,startangle=90,shadow=True,explode=(0,0),autopct='%1.1f%%',colors=['g','r'])\n",
    "plt.show()"
   ]
  },
  {
   "cell_type": "markdown",
   "metadata": {},
   "source": [
    "Toss Decisions across Seasons"
   ]
  },
  {
   "cell_type": "markdown",
   "metadata": {},
   "source": [
    "The Twenty20 format is relatively new to the cricket. It is an addition to the already exisiting 50 overs and the test cricket format. We can see as we progress through the seasons, teams are deciding to chase the target rather than setting a target. This is becuase the Twenty20 format is with reduced overs but with the same number of wickets (10) for each team as in other formats. Hence, when a team bats first, no target is safe to play with as the chasing team has an advantage of knowing the target to chase. Hence, if the target is smaller, they can play cautiously and chase it comfortably. On the other hand, if the target is big one, they can try attacking all out playing with a mentality of nothing to lose and may stand a chance of chasing it. This is why teams are preferring to chase often as it is harder for teams to protect their targets in such a short format."
   ]
  },
  {
   "cell_type": "code",
   "execution_count": 19,
   "metadata": {},
   "outputs": [
    {
     "data": {
      "image/png": "[encoded data removed]",
      "text/plain": [
       "<matplotlib.figure.Figure at 0x10d694390>"
      ]
     },
     "metadata": {},
     "output_type": "display_data"
    }
   ],
   "source": [
    "plt.subplots(figsize=(10,5))\n",
    "sns.countplot(x='Season',hue='Toss Decision',data=matches)\n",
    "plt.show()"
   ]
  },
  {
   "cell_type": "markdown",
   "metadata": {},
   "source": [
    "Who team is the lucky one? "
   ]
  },
  {
   "cell_type": "markdown",
   "metadata": {},
   "source": [
    "The bar plot below shows us the teams that have won the highest number of tosses across all the seasons. We see that Mumbai Indians has won the most number of tosses."
   ]
  },
  {
   "cell_type": "code",
   "execution_count": 20,
   "metadata": {},
   "outputs": [
    {
     "data": {
      "image/png": "[encoded data removed]",
      "text/plain": [
       "<matplotlib.figure.Figure at 0x109cb7898>"
      ]
     },
     "metadata": {},
     "output_type": "display_data"
    }
   ],
   "source": [
    "plt.subplots(figsize=(13,6))\n",
    "tw=matches['Toss Winner'].value_counts().plot.bar(width=0.8)\n",
    "for center in tw.patches:\n",
    "    tw.annotate(format(center.get_height()), (center.get_x()+0.25, center.get_height()+0.25))\n",
    "plt.show()"
   ]
  },
  {
   "cell_type": "markdown",
   "metadata": {},
   "source": [
    "All Time High Score"
   ]
  },
  {
   "cell_type": "markdown",
   "metadata": {},
   "source": [
    "We can see that Royal Challengers Bangalore (RCB) has set the highest score of 263 runs in 20 overs against Pune Warriors.  To get an idea of that score for a reader who doesn't watch cricket, 263 runs can be considered as an average score by a team in a 50 over format. Therefore, scoring 263 runs in 120 balls is an incredible achievement as teams manage to do that in 300 balls normally. Dark day to forget for Pune for sure."
   ]
  },
  {
   "cell_type": "code",
   "execution_count": 21,
   "metadata": {},
   "outputs": [
    {
     "data": {
      "text/html": [
       "<div>\n",
       "<style>\n",
       "    .dataframe thead tr:only-child th {\n",
       "        text-align: right;\n",
       "    }\n",
       "\n",
       "    .dataframe thead th {\n",
       "        text-align: left;\n",
       "    }\n",
       "\n",
       "    .dataframe tbody tr th {\n",
       "        vertical-align: top;\n",
       "    }\n",
       "</style>\n",
       "<table border=\"1\" class=\"dataframe\">\n",
       "  <thead>\n",
       "    <tr style=\"text-align: right;\">\n",
       "      <th></th>\n",
       "      <th>Match ID</th>\n",
       "      <th>Innings</th>\n",
       "      <th>Batting Team</th>\n",
       "      <th>Bowling Team</th>\n",
       "      <th>Total Runs</th>\n",
       "    </tr>\n",
       "  </thead>\n",
       "  <tbody>\n",
       "    <tr>\n",
       "      <th>829</th>\n",
       "      <td>411</td>\n",
       "      <td>1</td>\n",
       "      <td>RCB</td>\n",
       "      <td>PW</td>\n",
       "      <td>263</td>\n",
       "    </tr>\n",
       "    <tr>\n",
       "      <th>1250</th>\n",
       "      <td>620</td>\n",
       "      <td>1</td>\n",
       "      <td>RCB</td>\n",
       "      <td>GL</td>\n",
       "      <td>248</td>\n",
       "    </tr>\n",
       "    <tr>\n",
       "      <th>416</th>\n",
       "      <td>206</td>\n",
       "      <td>1</td>\n",
       "      <td>CSK</td>\n",
       "      <td>RR</td>\n",
       "      <td>246</td>\n",
       "    </tr>\n",
       "    <tr>\n",
       "      <th>122</th>\n",
       "      <td>61</td>\n",
       "      <td>1</td>\n",
       "      <td>CSK</td>\n",
       "      <td>KXIP</td>\n",
       "      <td>240</td>\n",
       "    </tr>\n",
       "    <tr>\n",
       "      <th>1134</th>\n",
       "      <td>562</td>\n",
       "      <td>1</td>\n",
       "      <td>RCB</td>\n",
       "      <td>MI</td>\n",
       "      <td>235</td>\n",
       "    </tr>\n",
       "    <tr>\n",
       "      <th>596</th>\n",
       "      <td>296</td>\n",
       "      <td>1</td>\n",
       "      <td>KXIP</td>\n",
       "      <td>RCB</td>\n",
       "      <td>232</td>\n",
       "    </tr>\n",
       "    <tr>\n",
       "      <th>522</th>\n",
       "      <td>259</td>\n",
       "      <td>1</td>\n",
       "      <td>DD</td>\n",
       "      <td>KXIP</td>\n",
       "      <td>231</td>\n",
       "    </tr>\n",
       "    <tr>\n",
       "      <th>981</th>\n",
       "      <td>486</td>\n",
       "      <td>1</td>\n",
       "      <td>KXIP</td>\n",
       "      <td>CSK</td>\n",
       "      <td>231</td>\n",
       "    </tr>\n",
       "    <tr>\n",
       "      <th>100</th>\n",
       "      <td>50</td>\n",
       "      <td>1</td>\n",
       "      <td>KXIP</td>\n",
       "      <td>MI</td>\n",
       "      <td>230</td>\n",
       "    </tr>\n",
       "    <tr>\n",
       "      <th>1170</th>\n",
       "      <td>580</td>\n",
       "      <td>1</td>\n",
       "      <td>RCB</td>\n",
       "      <td>SRH</td>\n",
       "      <td>227</td>\n",
       "    </tr>\n",
       "  </tbody>\n",
       "</table>\n",
       "</div>"
      ],
      "text/plain": [
       "      Match ID  Innings Batting Team Bowling Team  Total Runs\n",
       "829        411        1          RCB           PW         263\n",
       "1250       620        1          RCB           GL         248\n",
       "416        206        1          CSK           RR         246\n",
       "122         61        1          CSK         KXIP         240\n",
       "1134       562        1          RCB           MI         235\n",
       "596        296        1         KXIP          RCB         232\n",
       "522        259        1           DD         KXIP         231\n",
       "981        486        1         KXIP          CSK         231\n",
       "100         50        1         KXIP           MI         230\n",
       "1170       580        1          RCB          SRH         227"
      ]
     },
     "execution_count": 21,
     "metadata": {},
     "output_type": "execute_result"
    }
   ],
   "source": [
    "top_scores=deliveries.groupby(['Match ID', 'Innings','Batting Team','Bowling Team'])['Total Runs'].sum().reset_index() \n",
    "top_scores=top_scores[top_scores['Total Runs']>=200]\n",
    "top_scores.nlargest(10,'Total Runs')"
   ]
  },
  {
   "cell_type": "markdown",
   "metadata": {},
   "source": [
    "The display in the left shows us the batting teams that scored the most numbers of 200+ scores while the display in the right shows us the bowling teams that have conceded the most numbers of 200+ runs.  \n",
    "We see that RCB has scored the highest numbers of 200+ scores while KXIP has conceded the highest numbers of 200+ scores. The player Gayle who has one of the highest strike rates and boundaries related runs plays for RCB. No wonder, they have managed to score multiple 200+ scores. "
   ]
  },
  {
   "cell_type": "code",
   "execution_count": 22,
   "metadata": {},
   "outputs": [
    {
     "data": {
      "image/png": "[encoded data removed]",
      "text/plain": [
       "<matplotlib.figure.Figure at 0x100f93a58>"
      ]
     },
     "metadata": {},
     "output_type": "display_data"
    }
   ],
   "source": [
    "f, ax = plt.subplots(1,2)\n",
    "sns.countplot(top_scores['Batting Team'],ax=ax[0])\n",
    "sns.countplot(top_scores['Bowling Team'],ax=ax[1])\n",
    "f=plt.gcf()\n",
    "f.set_size_inches(18,6)\n",
    "plt.show()"
   ]
  },
  {
   "cell_type": "markdown",
   "metadata": {},
   "source": [
    "How hard is it to chase 200+ scores?"
   ]
  },
  {
   "cell_type": "markdown",
   "metadata": {},
   "source": [
    "The Pie chart belows shows us that 14.3% of the times teams have succesfully chased targets of 200+ while 85.7% of the times they have failed. This shows us that, if you bat first and set a target of 200+, the team has a probability of 85.7% of winning the game."
   ]
  },
  {
   "cell_type": "code",
   "execution_count": 23,
   "metadata": {},
   "outputs": [
    {
     "data": {
      "text/html": [
       "<div>\n",
       "<style>\n",
       "    .dataframe thead tr:only-child th {\n",
       "        text-align: right;\n",
       "    }\n",
       "\n",
       "    .dataframe thead th {\n",
       "        text-align: left;\n",
       "    }\n",
       "\n",
       "    .dataframe tbody tr th {\n",
       "        vertical-align: top;\n",
       "    }\n",
       "</style>\n",
       "<table border=\"1\" class=\"dataframe\">\n",
       "  <thead>\n",
       "    <tr style=\"text-align: right;\">\n",
       "      <th></th>\n",
       "      <th>Batting Team</th>\n",
       "      <th>Bowling Team</th>\n",
       "      <th>1st Innings Runs</th>\n",
       "      <th>2nd Innings Runs</th>\n",
       "      <th>Score_Chased</th>\n",
       "    </tr>\n",
       "  </thead>\n",
       "  <tbody>\n",
       "    <tr>\n",
       "      <th>0</th>\n",
       "      <td>SRH</td>\n",
       "      <td>RCB</td>\n",
       "      <td>207</td>\n",
       "      <td>172</td>\n",
       "      <td>no</td>\n",
       "    </tr>\n",
       "    <tr>\n",
       "      <th>8</th>\n",
       "      <td>DD</td>\n",
       "      <td>RPS</td>\n",
       "      <td>205</td>\n",
       "      <td>108</td>\n",
       "      <td>no</td>\n",
       "    </tr>\n",
       "    <tr>\n",
       "      <th>19</th>\n",
       "      <td>RCB</td>\n",
       "      <td>GL</td>\n",
       "      <td>213</td>\n",
       "      <td>192</td>\n",
       "      <td>no</td>\n",
       "    </tr>\n",
       "    <tr>\n",
       "      <th>31</th>\n",
       "      <td>SRH</td>\n",
       "      <td>KXIP</td>\n",
       "      <td>207</td>\n",
       "      <td>181</td>\n",
       "      <td>no</td>\n",
       "    </tr>\n",
       "    <tr>\n",
       "      <th>35</th>\n",
       "      <td>SRH</td>\n",
       "      <td>KKR</td>\n",
       "      <td>209</td>\n",
       "      <td>161</td>\n",
       "      <td>no</td>\n",
       "    </tr>\n",
       "  </tbody>\n",
       "</table>\n",
       "</div>"
      ],
      "text/plain": [
       "   Batting Team Bowling Team  1st Innings Runs  2nd Innings Runs Score_Chased\n",
       "0           SRH          RCB               207               172           no\n",
       "8            DD          RPS               205               108           no\n",
       "19          RCB           GL               213               192           no\n",
       "31          SRH         KXIP               207               181           no\n",
       "35          SRH          KKR               209               161           no"
      ]
     },
     "execution_count": 23,
     "metadata": {},
     "output_type": "execute_result"
    }
   ],
   "source": [
    "#Data Set: Record of all the games that have had 200+ scores and whther the score was chaed or not\n",
    "top_scores=deliveries.groupby(['Match ID', 'Innings','Batting Team','Bowling Team'])['Total Runs'].sum().reset_index()\n",
    "top_scores1=top_scores[top_scores['Innings']==1]\n",
    "top_scores2=top_scores[top_scores['Innings']==2]\n",
    "top_scores1=top_scores1.merge(top_scores2[['Match ID','Innings', 'Total Runs']], on='Match ID')\n",
    "top_scores1.rename(columns={'Innings_x':'1st Innings','Innings_y':'2nd Innings','Total Runs_x':'1st Innings Runs','Total Runs_y':'2nd Innings Runs'},inplace=True)\n",
    "top_scores1=top_scores1[top_scores1['1st Innings Runs']>=200]\n",
    "top_scores1['Score_Chased']=1\n",
    "top_scores1['Score_Chased'] = np.where(top_scores1['1st Innings Runs']<=top_scores1['2nd Innings Runs'], \n",
    "                                           'yes', 'no')\n",
    "cut_pie=top_scores1['Score_Chased'].value_counts().reset_index().Score_Chased\n",
    "list(cut_pie)\n",
    "labels=['target not chased','target chased']\n",
    "top_scores3 = top_scores1.drop(['1st Innings', '2nd Innings', 'Match ID'], axis=1)\n",
    "top_scores3.head()\n"
   ]
  },
  {
   "cell_type": "code",
   "execution_count": 24,
   "metadata": {},
   "outputs": [
    {
     "data": {
      "image/png": "[encoded data removed]",
      "text/plain": [
       "<matplotlib.figure.Figure at 0x107e48c88>"
      ]
     },
     "metadata": {},
     "output_type": "display_data"
    }
   ],
   "source": [
    "plt.pie(cut_pie,labels=labels,colors=['#1f2ff3', '#0fff00'],startangle=90,shadow=True,explode=(0,0.1),autopct='%1.1f%%')\n",
    "fig = plt.gcf()\n",
    "fig.set_size_inches(6,6)\n",
    "top_scores1.head()\n",
    "plt.show()"
   ]
  },
  {
   "cell_type": "markdown",
   "metadata": {},
   "source": [
    "2018 IPL Season Prediction\n"
   ]
  },
  {
   "cell_type": "markdown",
   "metadata": {},
   "source": [
    "Prediction: Batting Average of batsmen for the upcoming season."
   ]
  },
  {
   "cell_type": "code",
   "execution_count": 25,
   "metadata": {},
   "outputs": [
    {
     "name": "stdout",
     "output_type": "stream",
     "text": [
      "          Batsman  innings\n",
      "0  A Ashish Reddy       23\n",
      "1      A Chandila        2\n",
      "2        A Chopra        6\n",
      "3     A Choudhary        3\n",
      "4      A Flintoff        3\n"
     ]
    }
   ],
   "source": [
    "#Number of innings for a batsmen\n",
    "innings=MatchRecord_Batsmen.groupby(['Innings','Batsman']).size().reset_index()\n",
    "innings=innings.groupby(['Batsman']).sum().reset_index()\n",
    "innings=innings.drop(['Innings'],1)\n",
    "innings.rename(columns={0:'innings'},inplace=True)\n",
    "\n",
    "print (innings.head(5))"
   ]
  },
  {
   "cell_type": "code",
   "execution_count": 26,
   "metadata": {},
   "outputs": [
    {
     "name": "stdout",
     "output_type": "stream",
     "text": [
      "           Batsman  Not Outs\n",
      "2   A Ashish Reddy         8\n",
      "4       A Chandila         2\n",
      "10     A Choudhary         2\n",
      "13      A Flintoff         1\n",
      "16        A Kumble        12\n"
     ]
    }
   ],
   "source": [
    "#Number of not outs for a batsmen\n",
    "dismissal_group=MatchRecord_Batsmen[['Dismissal Kind','Batsman']]\n",
    "dismissal_group=dismissal_group.groupby(['Batsman','Dismissal Kind']).size().reset_index()\n",
    "dismissal_group.rename(columns={'0':'No_of_times'},inplace=True)\n",
    "NotOuts=dismissal_group[dismissal_group['Dismissal Kind']=='not out']\n",
    "NotOuts=NotOuts.drop(['Dismissal Kind'],1)\n",
    "NotOuts.rename(columns={0:'Not Outs'},inplace=True) \n",
    "print (NotOuts.head(5))"
   ]
  },
  {
   "cell_type": "markdown",
   "metadata": {},
   "source": [
    "A quick observation of the batting averages observation shows us that most of the batsmen average upto 30, some good batsmen have an average between 30-40, while some exceptionally well batsmen average 50 and above."
   ]
  },
  {
   "cell_type": "code",
   "execution_count": 27,
   "metadata": {},
   "outputs": [
    {
     "data": {
      "image/png": "[encoded data removed]",
      "text/plain": [
       "<matplotlib.figure.Figure at 0x109ca3c88>"
      ]
     },
     "metadata": {},
     "output_type": "display_data"
    }
   ],
   "source": [
    "#Batting Average = Total Runs/(no.of Innings - no.of NotOuts)\n",
    "\n",
    "batting_avg2=MatchRecord_Batsmen.groupby(['Batsman'] ).sum().reset_index()\n",
    "batting_avg2=batting_avg2.drop(['Innings','Match ID'],1)\n",
    "batting_avg=innings.merge(batting_avg2,on='Batsman')\n",
    "batting_avg=batting_avg.merge(NotOuts,on='Batsman')\n",
    "batting_avg['Batting Average']=batting_avg['Batsman Runs']/(batting_avg['innings']-batting_avg['Not Outs'])\n",
    "batting_avg=batting_avg.replace([np.inf, -np.inf], 0)\n",
    "batting_avg.rename(columns={'Batsman':'Player'},inplace=True)\n",
    "\n",
    "l=list(range(len(batting_avg)))\n",
    "plt.scatter(l,batting_avg['Batting Average'])\n",
    "plt.xlabel('Player')\n",
    "plt.ylabel('Average')\n",
    "plt.show()\n"
   ]
  },
  {
   "cell_type": "code",
   "execution_count": 28,
   "metadata": {},
   "outputs": [
    {
     "data": {
      "text/html": [
       "<div>\n",
       "<style>\n",
       "    .dataframe thead tr:only-child th {\n",
       "        text-align: right;\n",
       "    }\n",
       "\n",
       "    .dataframe thead th {\n",
       "        text-align: left;\n",
       "    }\n",
       "\n",
       "    .dataframe tbody tr th {\n",
       "        vertical-align: top;\n",
       "    }\n",
       "</style>\n",
       "<table border=\"1\" class=\"dataframe\">\n",
       "  <thead>\n",
       "    <tr style=\"text-align: right;\">\n",
       "      <th></th>\n",
       "      <th>Player</th>\n",
       "      <th>innings</th>\n",
       "      <th>Season</th>\n",
       "      <th>Batsman Runs</th>\n",
       "      <th>balls_faced</th>\n",
       "      <th>Fours</th>\n",
       "      <th>Sixes</th>\n",
       "      <th>SR</th>\n",
       "      <th>Not Outs</th>\n",
       "      <th>Batting Average</th>\n",
       "    </tr>\n",
       "  </thead>\n",
       "  <tbody>\n",
       "    <tr>\n",
       "      <th>0</th>\n",
       "      <td>A Ashish Reddy</td>\n",
       "      <td>23</td>\n",
       "      <td>46313</td>\n",
       "      <td>280</td>\n",
       "      <td>193.0</td>\n",
       "      <td>16.0</td>\n",
       "      <td>15.0</td>\n",
       "      <td>3163.94</td>\n",
       "      <td>8</td>\n",
       "      <td>18.666667</td>\n",
       "    </tr>\n",
       "    <tr>\n",
       "      <th>1</th>\n",
       "      <td>A Chandila</td>\n",
       "      <td>2</td>\n",
       "      <td>4025</td>\n",
       "      <td>4</td>\n",
       "      <td>7.0</td>\n",
       "      <td>0.0</td>\n",
       "      <td>0.0</td>\n",
       "      <td>66.67</td>\n",
       "      <td>2</td>\n",
       "      <td>0.000000</td>\n",
       "    </tr>\n",
       "    <tr>\n",
       "      <th>2</th>\n",
       "      <td>A Choudhary</td>\n",
       "      <td>3</td>\n",
       "      <td>6051</td>\n",
       "      <td>25</td>\n",
       "      <td>20.0</td>\n",
       "      <td>1.0</td>\n",
       "      <td>1.0</td>\n",
       "      <td>491.67</td>\n",
       "      <td>2</td>\n",
       "      <td>25.000000</td>\n",
       "    </tr>\n",
       "    <tr>\n",
       "      <th>3</th>\n",
       "      <td>A Flintoff</td>\n",
       "      <td>3</td>\n",
       "      <td>6027</td>\n",
       "      <td>62</td>\n",
       "      <td>53.0</td>\n",
       "      <td>5.0</td>\n",
       "      <td>2.0</td>\n",
       "      <td>367.70</td>\n",
       "      <td>1</td>\n",
       "      <td>31.000000</td>\n",
       "    </tr>\n",
       "    <tr>\n",
       "      <th>4</th>\n",
       "      <td>A Kumble</td>\n",
       "      <td>15</td>\n",
       "      <td>30136</td>\n",
       "      <td>35</td>\n",
       "      <td>47.0</td>\n",
       "      <td>3.0</td>\n",
       "      <td>0.0</td>\n",
       "      <td>1212.86</td>\n",
       "      <td>12</td>\n",
       "      <td>11.666667</td>\n",
       "    </tr>\n",
       "  </tbody>\n",
       "</table>\n",
       "</div>"
      ],
      "text/plain": [
       "           Player  innings  Season  Batsman Runs  balls_faced  Fours  Sixes  \\\n",
       "0  A Ashish Reddy       23   46313           280        193.0   16.0   15.0   \n",
       "1      A Chandila        2    4025             4          7.0    0.0    0.0   \n",
       "2     A Choudhary        3    6051            25         20.0    1.0    1.0   \n",
       "3      A Flintoff        3    6027            62         53.0    5.0    2.0   \n",
       "4        A Kumble       15   30136            35         47.0    3.0    0.0   \n",
       "\n",
       "        SR  Not Outs  Batting Average  \n",
       "0  3163.94         8        18.666667  \n",
       "1    66.67         2         0.000000  \n",
       "2   491.67         2        25.000000  \n",
       "3   367.70         1        31.000000  \n",
       "4  1212.86        12        11.666667  "
      ]
     },
     "execution_count": 28,
     "metadata": {},
     "output_type": "execute_result"
    }
   ],
   "source": [
    "batting_avg.fillna(-999, inplace= True) #Fill -999 for players who have never batted\n",
    "batting_avg.head()"
   ]
  },
  {
   "cell_type": "markdown",
   "metadata": {},
   "source": [
    "Prediction: To predict the batting average for a batsmen for the next season, I have used Knn prediction. I have trained 90% of the data set and tested the reamining 10% of the data. The training and testing data set has been randomized. Finally, the factors that I took into consideration to predict the batting averages are number of innings, runs scored by batsmen, balls faced, number of fours, number of sixes, and number of not outs. We can see from the output that the prediction is pretty similar to their past batting averages."
   ]
  },
  {
   "cell_type": "code",
   "execution_count": 29,
   "metadata": {},
   "outputs": [
    {
     "name": "stdout",
     "output_type": "stream",
     "text": [
      "The Knn Score is:\n"
     ]
    },
    {
     "name": "stderr",
     "output_type": "stream",
     "text": [
      "/Users/prashraypatel/anaconda3/lib/python3.6/site-packages/sklearn/cross_validation.py:41: DeprecationWarning: This module was deprecated in version 0.18 in favor of the model_selection module into which all the refactored classes and functions are moved. Also note that the interface of the new CV iterators are different from that of this module. This module will be removed in 0.20.\n",
      "  \"This module will be removed in 0.20.\", DeprecationWarning)\n"
     ]
    },
    {
     "data": {
      "text/plain": [
       "0.11428571428571428"
      ]
     },
     "execution_count": 29,
     "metadata": {},
     "output_type": "execute_result"
    }
   ],
   "source": [
    "from sklearn import preprocessing, cross_validation, neighbors\n",
    "from sklearn.neighbors import KNeighborsClassifier\n",
    "#Batting Average Prediction\n",
    "batting_avg[\"Batting Average\"] = (batting_avg[\"Batting Average\"]).astype(int)\n",
    "X = batting_avg.drop(['Player', 'Batting Average', 'Season'], axis=1)\n",
    "y = np.asarray(batting_avg['Batting Average'])\n",
    "X_train, X_test, y_train, y_test = cross_validation.train_test_split(X,y, test_size=0.1)\n",
    "\n",
    "knn = KNeighborsClassifier(n_neighbors=5)\n",
    "knn.fit(X_train, y_train)\n",
    "print(\"The Knn Score is:\")\n",
    "knn.score(X_test, y_test)\n",
    "\n"
   ]
  },
  {
   "cell_type": "code",
   "execution_count": 30,
   "metadata": {},
   "outputs": [
    {
     "name": "stdout",
     "output_type": "stream",
     "text": [
      "Batting Average of 35 random batsmen for 2018 Season Prediction\n"
     ]
    },
    {
     "data": {
      "text/plain": [
       "array([21,  7, 27, 19,  0, 14, 19,  7, 14,  0,  9, 37, 13, 21, 31, 17,  0,\n",
       "        0, 15, 13,  7, 37,  8,  9, 28, 26,  5, 20, 15, 23,  0, 13,  6, 20,\n",
       "        0])"
      ]
     },
     "execution_count": 30,
     "metadata": {},
     "output_type": "execute_result"
    }
   ],
   "source": [
    "print(\"Batting Average of 35 random batsmen for 2018 Season Prediction\")\n",
    "knn.predict(X_test)\n",
    "\n"
   ]
  },
  {
   "cell_type": "code",
   "execution_count": 31,
   "metadata": {},
   "outputs": [
    {
     "name": "stdout",
     "output_type": "stream",
     "text": [
      "Batting Average of those 35 batsmen across all the seasons\n"
     ]
    },
    {
     "data": {
      "text/plain": [
       "array([27, 10, 25, 12,  0, 11, 25,  8, 24,  0, 10, 29, 18, 39, 15, 25,  0,\n",
       "       10, 24, 55,  9, 32,  8, 12, 37, 30, 10, 22, 20, 25,  3, 44, 11, 25,\n",
       "        3])"
      ]
     },
     "execution_count": 31,
     "metadata": {},
     "output_type": "execute_result"
    }
   ],
   "source": [
    "print(\"Batting Average of those 35 batsmen across all the seasons\")\n",
    "y_test"
   ]
  },
  {
   "cell_type": "markdown",
   "metadata": {},
   "source": [
    "Prediction: Bowling Average of bowlers for the upcoming season."
   ]
  },
  {
   "cell_type": "code",
   "execution_count": 32,
   "metadata": {},
   "outputs": [
    {
     "name": "stderr",
     "output_type": "stream",
     "text": [
      "/Users/prashraypatel/anaconda3/lib/python3.6/site-packages/pandas/core/indexing.py:179: SettingWithCopyWarning: \n",
      "A value is trying to be set on a copy of a slice from a DataFrame\n",
      "\n",
      "See the caveats in the documentation: http://pandas.pydata.org/pandas-docs/stable/indexing.html#indexing-view-versus-copy\n",
      "  self._setitem_with_indexer(indexer, value)\n"
     ]
    }
   ],
   "source": [
    "#bowlers\n",
    "bowlers=deliveries[['Ball(s)','Bowler','Extra Runs','Total Runs','Player Dismissed','Dismissal Kind','Fielder']]\n",
    "#Overs\n",
    "overs=bowlers.groupby(['Bowler','Ball(s)']).size().reset_index()\n",
    "overs.rename(columns={0:'no_of_each_balls'},inplace=True)\n",
    "overs['Total Balls']=0\n",
    "   \n",
    "for o in range(0,len(overs)):\n",
    "    if overs[\"Ball(s)\"].iloc[o]==1:\n",
    "        overs['Total Balls'].iloc[o] = overs['no_of_each_balls'].iloc[o]+overs['no_of_each_balls'].iloc[o+1]+overs['no_of_each_balls'].iloc[o+2]+overs['no_of_each_balls'].iloc[o+3]+overs['no_of_each_balls'].iloc[o+4]+overs['no_of_each_balls'].iloc[o+5]"
   ]
  },
  {
   "cell_type": "code",
   "execution_count": 33,
   "metadata": {},
   "outputs": [
    {
     "data": {
      "text/html": [
       "<div>\n",
       "<style>\n",
       "    .dataframe thead tr:only-child th {\n",
       "        text-align: right;\n",
       "    }\n",
       "\n",
       "    .dataframe thead th {\n",
       "        text-align: left;\n",
       "    }\n",
       "\n",
       "    .dataframe tbody tr th {\n",
       "        vertical-align: top;\n",
       "    }\n",
       "</style>\n",
       "<table border=\"1\" class=\"dataframe\">\n",
       "  <thead>\n",
       "    <tr style=\"text-align: right;\">\n",
       "      <th></th>\n",
       "      <th>Bowler</th>\n",
       "      <th>Total Runs Conceded</th>\n",
       "    </tr>\n",
       "  </thead>\n",
       "  <tbody>\n",
       "    <tr>\n",
       "      <th>0</th>\n",
       "      <td>A Ashish Reddy</td>\n",
       "      <td>400</td>\n",
       "    </tr>\n",
       "    <tr>\n",
       "      <th>1</th>\n",
       "      <td>A Chandila</td>\n",
       "      <td>245</td>\n",
       "    </tr>\n",
       "    <tr>\n",
       "      <th>2</th>\n",
       "      <td>A Choudhary</td>\n",
       "      <td>144</td>\n",
       "    </tr>\n",
       "    <tr>\n",
       "      <th>3</th>\n",
       "      <td>A Flintoff</td>\n",
       "      <td>106</td>\n",
       "    </tr>\n",
       "    <tr>\n",
       "      <th>4</th>\n",
       "      <td>A Kumble</td>\n",
       "      <td>1089</td>\n",
       "    </tr>\n",
       "  </tbody>\n",
       "</table>\n",
       "</div>"
      ],
      "text/plain": [
       "           Bowler  Total Runs Conceded\n",
       "0  A Ashish Reddy                  400\n",
       "1      A Chandila                  245\n",
       "2     A Choudhary                  144\n",
       "3      A Flintoff                  106\n",
       "4        A Kumble                 1089"
      ]
     },
     "execution_count": 33,
     "metadata": {},
     "output_type": "execute_result"
    }
   ],
   "source": [
    "#runs conceded by the bowler\n",
    "conceded_runs=bowlers.groupby(['Bowler','Total Runs']).size().reset_index()\n",
    "conceded_runs.rename(columns={0:'Runs Conceded'},inplace=True)\n",
    "conceded_runs['Total Runs Conceded']=0\n",
    "conceded_runs['Total Runs Conceded'] = ((conceded_runs['Runs Conceded'])*(conceded_runs['Total Runs']))\n",
    "conceded_runs=conceded_runs[['Bowler','Total Runs Conceded']]\n",
    "conceded_runs=conceded_runs.groupby(['Bowler']).sum().reset_index()\n",
    "conceded_runs.head()"
   ]
  },
  {
   "cell_type": "markdown",
   "metadata": {},
   "source": [
    "Highest Wicket Takes across all the seasons"
   ]
  },
  {
   "cell_type": "markdown",
   "metadata": {},
   "source": [
    "Malinga has had the highest numbers of wicket takes across all the seasons. Interestingly, Malinga is also the same bowler who has bowled the highest numbers of extras across all the seasons."
   ]
  },
  {
   "cell_type": "code",
   "execution_count": 34,
   "metadata": {},
   "outputs": [
    {
     "data": {
      "text/html": [
       "<div>\n",
       "<style>\n",
       "    .dataframe thead tr:only-child th {\n",
       "        text-align: right;\n",
       "    }\n",
       "\n",
       "    .dataframe thead th {\n",
       "        text-align: left;\n",
       "    }\n",
       "\n",
       "    .dataframe tbody tr th {\n",
       "        vertical-align: top;\n",
       "    }\n",
       "</style>\n",
       "<table border=\"1\" class=\"dataframe\">\n",
       "  <thead>\n",
       "    <tr style=\"text-align: right;\">\n",
       "      <th></th>\n",
       "      <th>Bowler</th>\n",
       "      <th>Total Wickets</th>\n",
       "    </tr>\n",
       "  </thead>\n",
       "  <tbody>\n",
       "    <tr>\n",
       "      <th>259</th>\n",
       "      <td>SL Malinga</td>\n",
       "      <td>170</td>\n",
       "    </tr>\n",
       "    <tr>\n",
       "      <th>5</th>\n",
       "      <td>A Mishra</td>\n",
       "      <td>142</td>\n",
       "    </tr>\n",
       "    <tr>\n",
       "      <th>80</th>\n",
       "      <td>DJ Bravo</td>\n",
       "      <td>137</td>\n",
       "    </tr>\n",
       "    <tr>\n",
       "      <th>107</th>\n",
       "      <td>Harbhajan Singh</td>\n",
       "      <td>136</td>\n",
       "    </tr>\n",
       "    <tr>\n",
       "      <th>204</th>\n",
       "      <td>PP Chawla</td>\n",
       "      <td>133</td>\n",
       "    </tr>\n",
       "  </tbody>\n",
       "</table>\n",
       "</div>"
      ],
      "text/plain": [
       "              Bowler  Total Wickets\n",
       "259       SL Malinga            170\n",
       "5           A Mishra            142\n",
       "80          DJ Bravo            137\n",
       "107  Harbhajan Singh            136\n",
       "204        PP Chawla            133"
      ]
     },
     "execution_count": 34,
     "metadata": {},
     "output_type": "execute_result"
    }
   ],
   "source": [
    "#wickets\n",
    "wickets=bowlers[['Bowler','Dismissal Kind']]\n",
    "wickets=wickets.dropna()\n",
    "wickets=wickets[wickets[\"Dismissal Kind\"] != 0 ]\n",
    "wickets=wickets.groupby(['Bowler']).size().reset_index()\n",
    "wickets.rename(columns={0:'Total Wickets'},inplace=True)\n",
    "wickets.sort_values(by=\"Total Wickets\", ascending = False, inplace = True)\n",
    "wickets.head()\n"
   ]
  },
  {
   "cell_type": "code",
   "execution_count": 35,
   "metadata": {},
   "outputs": [
    {
     "data": {
      "image/png": "[encoded data removed]",
      "text/plain": [
       "<matplotlib.figure.Figure at 0x10a77dcf8>"
      ]
     },
     "metadata": {},
     "output_type": "display_data"
    }
   ],
   "source": [
    "wickets[:10].plot(x= 'Bowler', y = 'Total Wickets', kind = 'barh', colormap = 'Accent')\n",
    "plt.show()"
   ]
  },
  {
   "cell_type": "code",
   "execution_count": 36,
   "metadata": {},
   "outputs": [],
   "source": [
    "#Bowling Average= (Total runs conceded) / (Total Wickets taken)\n",
    "bowling_average=conceded_runs.merge(wickets,on='Bowler',how='left')\n",
    "bowling_average['Bowling Average']=bowling_average['Total Runs Conceded']/bowling_average['Total Wickets']\n",
    "\n",
    "#Economy = Total Runs conceded / Overs   \n",
    "eco=conceded_runs.merge(overs,on='Bowler',how='left')\n",
    "eco=eco[eco[\"Total Balls\"] != 0]\n",
    "eco=eco[['Bowler','Total Balls','Total Runs Conceded']]\n",
    "eco['overs']=eco['Total Balls']/6\n",
    "eco['Economy']=eco['Total Runs Conceded']/eco['overs']\n",
    "\n",
    "bowling_avg=wickets.merge(bowling_average[['Bowler','Total Runs Conceded','Bowling Average']], on='Bowler',how='left')\n",
    "bowling_avg=bowling_avg.merge(eco[['Bowler','Total Balls','Economy','overs']],on='Bowler',how='left')\n",
    "bowling_avg.rename(columns={'Bowler':'Player'},inplace=True)\n",
    "\n",
    "bowling_avg.fillna(-9999, inplace= True)\n",
    "\n",
    "\n"
   ]
  },
  {
   "cell_type": "code",
   "execution_count": 37,
   "metadata": {},
   "outputs": [
    {
     "data": {
      "text/html": [
       "<div>\n",
       "<style>\n",
       "    .dataframe thead tr:only-child th {\n",
       "        text-align: right;\n",
       "    }\n",
       "\n",
       "    .dataframe thead th {\n",
       "        text-align: left;\n",
       "    }\n",
       "\n",
       "    .dataframe tbody tr th {\n",
       "        vertical-align: top;\n",
       "    }\n",
       "</style>\n",
       "<table border=\"1\" class=\"dataframe\">\n",
       "  <thead>\n",
       "    <tr style=\"text-align: right;\">\n",
       "      <th></th>\n",
       "      <th>Player</th>\n",
       "      <th>Total Wickets</th>\n",
       "      <th>Total Runs Conceded</th>\n",
       "      <th>Bowling Average</th>\n",
       "      <th>Total Balls</th>\n",
       "      <th>Economy</th>\n",
       "      <th>overs</th>\n",
       "    </tr>\n",
       "  </thead>\n",
       "  <tbody>\n",
       "    <tr>\n",
       "      <th>0</th>\n",
       "      <td>SL Malinga</td>\n",
       "      <td>170</td>\n",
       "      <td>3034</td>\n",
       "      <td>17.847059</td>\n",
       "      <td>2559</td>\n",
       "      <td>7.113716</td>\n",
       "      <td>426.500000</td>\n",
       "    </tr>\n",
       "    <tr>\n",
       "      <th>1</th>\n",
       "      <td>A Mishra</td>\n",
       "      <td>142</td>\n",
       "      <td>3305</td>\n",
       "      <td>23.274648</td>\n",
       "      <td>2639</td>\n",
       "      <td>7.514210</td>\n",
       "      <td>439.833333</td>\n",
       "    </tr>\n",
       "    <tr>\n",
       "      <th>2</th>\n",
       "      <td>DJ Bravo</td>\n",
       "      <td>137</td>\n",
       "      <td>2815</td>\n",
       "      <td>20.547445</td>\n",
       "      <td>2018</td>\n",
       "      <td>8.369673</td>\n",
       "      <td>336.333333</td>\n",
       "    </tr>\n",
       "    <tr>\n",
       "      <th>3</th>\n",
       "      <td>Harbhajan Singh</td>\n",
       "      <td>136</td>\n",
       "      <td>3453</td>\n",
       "      <td>25.389706</td>\n",
       "      <td>2919</td>\n",
       "      <td>7.097636</td>\n",
       "      <td>486.500000</td>\n",
       "    </tr>\n",
       "    <tr>\n",
       "      <th>4</th>\n",
       "      <td>PP Chawla</td>\n",
       "      <td>133</td>\n",
       "      <td>3315</td>\n",
       "      <td>24.924812</td>\n",
       "      <td>2564</td>\n",
       "      <td>7.757410</td>\n",
       "      <td>427.333333</td>\n",
       "    </tr>\n",
       "  </tbody>\n",
       "</table>\n",
       "</div>"
      ],
      "text/plain": [
       "            Player  Total Wickets  Total Runs Conceded  Bowling Average  \\\n",
       "0       SL Malinga            170                 3034        17.847059   \n",
       "1         A Mishra            142                 3305        23.274648   \n",
       "2         DJ Bravo            137                 2815        20.547445   \n",
       "3  Harbhajan Singh            136                 3453        25.389706   \n",
       "4        PP Chawla            133                 3315        24.924812   \n",
       "\n",
       "   Total Balls   Economy       overs  \n",
       "0         2559  7.113716  426.500000  \n",
       "1         2639  7.514210  439.833333  \n",
       "2         2018  8.369673  336.333333  \n",
       "3         2919  7.097636  486.500000  \n",
       "4         2564  7.757410  427.333333  "
      ]
     },
     "execution_count": 37,
     "metadata": {},
     "output_type": "execute_result"
    }
   ],
   "source": [
    "bowling_avg.head()"
   ]
  },
  {
   "cell_type": "markdown",
   "metadata": {},
   "source": [
    "Prediction: To predict the bowling average for a bowler for the next season, I have used Knn prediction. I have trained 90% of the data set and tested the reamining 10% of the data. The training and testing data set has been randomized. Finally, the factors that I took into consideration to predict the bowling averages are total wickets, total runs conceded, total balls bowled, economy of the bowler, and total overs bowled. We can see from the output that the prediction is pretty similar to their past batting averages."
   ]
  },
  {
   "cell_type": "code",
   "execution_count": 38,
   "metadata": {},
   "outputs": [
    {
     "name": "stdout",
     "output_type": "stream",
     "text": [
      "The Knn Score is:\n"
     ]
    },
    {
     "data": {
      "text/plain": [
       "0.03125"
      ]
     },
     "execution_count": 38,
     "metadata": {},
     "output_type": "execute_result"
    }
   ],
   "source": [
    "#Bowling Average Prediction\n",
    "bowling_avg[\"Bowling Average\"] = (bowling_avg[\"Bowling Average\"]).astype(int)\n",
    "X2 = bowling_avg.drop(['Player', 'Bowling Average'], axis=1)\n",
    "y2 = np.asarray(bowling_avg['Bowling Average'])\n",
    "X2_train, X2_test,y2_train, y2_test = cross_validation.train_test_split(X2,y2, test_size=0.1)\n",
    "\n",
    "knn = KNeighborsClassifier(n_neighbors=5)\n",
    "knn.fit(X2_train, y2_train)\n",
    "print(\"The Knn Score is:\")\n",
    "knn.score(X2_test, y2_test)\n",
    "\n"
   ]
  },
  {
   "cell_type": "code",
   "execution_count": 39,
   "metadata": {},
   "outputs": [
    {
     "name": "stdout",
     "output_type": "stream",
     "text": [
      "Bowling Average of random 32 bowlers for 2018 Season Prediction\n"
     ]
    },
    {
     "data": {
      "text/plain": [
       "array([21, 24, 37, 24, 16, 24, 26, 18, 22, 22, 21, 29, 22, 34, 21, 22, 28,\n",
       "       23, 37, 25, 16, 50, 23, 24, 22, 39, 24, 31, 27, 50, 26, 21])"
      ]
     },
     "execution_count": 39,
     "metadata": {},
     "output_type": "execute_result"
    }
   ],
   "source": [
    "print(\"Bowling Average of random 32 bowlers for 2018 Season Prediction\")\n",
    "knn.predict(X2_test)\n",
    "\n"
   ]
  },
  {
   "cell_type": "code",
   "execution_count": 41,
   "metadata": {},
   "outputs": [
    {
     "name": "stdout",
     "output_type": "stream",
     "text": [
      "Bowling Average of those 32 bowlers across all the seasons.\n"
     ]
    },
    {
     "data": {
      "text/plain": [
       "array([63, 25, 26, 25, 30, 31, 21, 29, 27, 29, 32, 51, 21, 34, 31, 26, 44,\n",
       "       34, 28, 27, 28, 30, 14, 31, 29, 48, 39, 62, 40, 28, 35, 33])"
      ]
     },
     "execution_count": 41,
     "metadata": {},
     "output_type": "execute_result"
    }
   ],
   "source": [
    "print(\"Bowling Average of those 32 bowlers across all the seasons.\")\n",
    "y2_test\n"
   ]
  }
 ],
 "metadata": {
  "kernelspec": {
   "display_name": "Python 3",
   "language": "python",
   "name": "python3"
  },
  "language_info": {
   "codemirror_mode": {
    "name": "ipython",
    "version": 3
   },
   "file_extension": ".py",
   "mimetype": "text/x-python",
   "name": "python",
   "nbconvert_exporter": "python",
   "pygments_lexer": "ipython3",
   "version": "3.6.3"
  }
 },
 "nbformat": 4,
 "nbformat_minor": 2
}
